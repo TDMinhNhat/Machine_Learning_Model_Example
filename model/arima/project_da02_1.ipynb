{
 "cells": [
  {
   "cell_type": "code",
   "id": "initial_id",
   "metadata": {
    "collapsed": true,
    "ExecuteTime": {
     "end_time": "2024-11-19T13:13:19.935373Z",
     "start_time": "2024-11-19T13:13:19.928854Z"
    }
   },
   "source": [
    "import numpy as np\n",
    "import pandas as pd\n",
    "import matplotlib.pyplot as plt\n",
    "import seaborn as sns\n",
    "from statsmodels.tsa.arima.model import ARIMA\n",
    "from statsmodels.tsa.stattools import adfuller\n",
    "from statsmodels.graphics.tsaplots import plot_acf, plot_pacf\n",
    "from sklearn.metrics import mean_squared_error, mean_absolute_error, mean_absolute_percentage_error\n",
    "from sklearn.model_selection import train_test_split\n",
    "from pmdarima import auto_arima"
   ],
   "outputs": [],
   "execution_count": 56
  },
  {
   "metadata": {
    "ExecuteTime": {
     "end_time": "2024-11-19T13:13:20.012677Z",
     "start_time": "2024-11-19T13:13:19.978997Z"
    }
   },
   "cell_type": "code",
   "source": [
    "data = pd.read_csv(\"../../datas/IEA Global EV Data 2024 new.csv\", header = 0, delimiter = \",\")\n",
    "data"
   ],
   "id": "ae56d556c37ab0bd",
   "outputs": [
    {
     "data": {
      "text/plain": [
       "        region          category           parameter    mode  \\\n",
       "0      Austria        Historical            EV stock    Cars   \n",
       "1      Austria        Historical      EV stock share    Cars   \n",
       "2      Belgium        Historical            EV stock   Buses   \n",
       "3      Belgium        Historical            EV sales    Vans   \n",
       "4      Belgium        Historical            EV stock    Vans   \n",
       "...        ...               ...                 ...     ...   \n",
       "12649    World  Projection-STEPS      EV sales share    Cars   \n",
       "12650    World  Projection-STEPS      EV stock share    Cars   \n",
       "12651    World    Projection-APS  EV charging points      EV   \n",
       "12652    World    Projection-APS  EV charging points      EV   \n",
       "12653    World  Projection-STEPS      EV stock share  Trucks   \n",
       "\n",
       "                    powertrain  year             unit            value  \\\n",
       "0                          BEV  2010         Vehicles              350   \n",
       "1                           EV  2010          percent  789.999.961.853   \n",
       "2                          BEV  2010         Vehicles                3   \n",
       "3                          BEV  2010         Vehicles                7   \n",
       "4                          BEV  2010         Vehicles               62   \n",
       "...                        ...   ...              ...              ...   \n",
       "12649                       EV  2035          percent               55   \n",
       "12650                       EV  2035          percent               31   \n",
       "12651  Publicly available fast  2035  charging points          9400000   \n",
       "12652  Publicly available slow  2035  charging points         15000000   \n",
       "12653                       EV  2035          percent                9   \n",
       "\n",
       "               percentage  \n",
       "0               35000,00%  \n",
       "1      78999996185300,00%  \n",
       "2                 300,00%  \n",
       "3                 700,00%  \n",
       "4                6200,00%  \n",
       "...                   ...  \n",
       "12649            5500,00%  \n",
       "12650            3100,00%  \n",
       "12651       940000000,00%  \n",
       "12652      1500000000,00%  \n",
       "12653             900,00%  \n",
       "\n",
       "[12654 rows x 9 columns]"
      ],
      "text/html": [
       "<div>\n",
       "<style scoped>\n",
       "    .dataframe tbody tr th:only-of-type {\n",
       "        vertical-align: middle;\n",
       "    }\n",
       "\n",
       "    .dataframe tbody tr th {\n",
       "        vertical-align: top;\n",
       "    }\n",
       "\n",
       "    .dataframe thead th {\n",
       "        text-align: right;\n",
       "    }\n",
       "</style>\n",
       "<table border=\"1\" class=\"dataframe\">\n",
       "  <thead>\n",
       "    <tr style=\"text-align: right;\">\n",
       "      <th></th>\n",
       "      <th>region</th>\n",
       "      <th>category</th>\n",
       "      <th>parameter</th>\n",
       "      <th>mode</th>\n",
       "      <th>powertrain</th>\n",
       "      <th>year</th>\n",
       "      <th>unit</th>\n",
       "      <th>value</th>\n",
       "      <th>percentage</th>\n",
       "    </tr>\n",
       "  </thead>\n",
       "  <tbody>\n",
       "    <tr>\n",
       "      <th>0</th>\n",
       "      <td>Austria</td>\n",
       "      <td>Historical</td>\n",
       "      <td>EV stock</td>\n",
       "      <td>Cars</td>\n",
       "      <td>BEV</td>\n",
       "      <td>2010</td>\n",
       "      <td>Vehicles</td>\n",
       "      <td>350</td>\n",
       "      <td>35000,00%</td>\n",
       "    </tr>\n",
       "    <tr>\n",
       "      <th>1</th>\n",
       "      <td>Austria</td>\n",
       "      <td>Historical</td>\n",
       "      <td>EV stock share</td>\n",
       "      <td>Cars</td>\n",
       "      <td>EV</td>\n",
       "      <td>2010</td>\n",
       "      <td>percent</td>\n",
       "      <td>789.999.961.853</td>\n",
       "      <td>78999996185300,00%</td>\n",
       "    </tr>\n",
       "    <tr>\n",
       "      <th>2</th>\n",
       "      <td>Belgium</td>\n",
       "      <td>Historical</td>\n",
       "      <td>EV stock</td>\n",
       "      <td>Buses</td>\n",
       "      <td>BEV</td>\n",
       "      <td>2010</td>\n",
       "      <td>Vehicles</td>\n",
       "      <td>3</td>\n",
       "      <td>300,00%</td>\n",
       "    </tr>\n",
       "    <tr>\n",
       "      <th>3</th>\n",
       "      <td>Belgium</td>\n",
       "      <td>Historical</td>\n",
       "      <td>EV sales</td>\n",
       "      <td>Vans</td>\n",
       "      <td>BEV</td>\n",
       "      <td>2010</td>\n",
       "      <td>Vehicles</td>\n",
       "      <td>7</td>\n",
       "      <td>700,00%</td>\n",
       "    </tr>\n",
       "    <tr>\n",
       "      <th>4</th>\n",
       "      <td>Belgium</td>\n",
       "      <td>Historical</td>\n",
       "      <td>EV stock</td>\n",
       "      <td>Vans</td>\n",
       "      <td>BEV</td>\n",
       "      <td>2010</td>\n",
       "      <td>Vehicles</td>\n",
       "      <td>62</td>\n",
       "      <td>6200,00%</td>\n",
       "    </tr>\n",
       "    <tr>\n",
       "      <th>...</th>\n",
       "      <td>...</td>\n",
       "      <td>...</td>\n",
       "      <td>...</td>\n",
       "      <td>...</td>\n",
       "      <td>...</td>\n",
       "      <td>...</td>\n",
       "      <td>...</td>\n",
       "      <td>...</td>\n",
       "      <td>...</td>\n",
       "    </tr>\n",
       "    <tr>\n",
       "      <th>12649</th>\n",
       "      <td>World</td>\n",
       "      <td>Projection-STEPS</td>\n",
       "      <td>EV sales share</td>\n",
       "      <td>Cars</td>\n",
       "      <td>EV</td>\n",
       "      <td>2035</td>\n",
       "      <td>percent</td>\n",
       "      <td>55</td>\n",
       "      <td>5500,00%</td>\n",
       "    </tr>\n",
       "    <tr>\n",
       "      <th>12650</th>\n",
       "      <td>World</td>\n",
       "      <td>Projection-STEPS</td>\n",
       "      <td>EV stock share</td>\n",
       "      <td>Cars</td>\n",
       "      <td>EV</td>\n",
       "      <td>2035</td>\n",
       "      <td>percent</td>\n",
       "      <td>31</td>\n",
       "      <td>3100,00%</td>\n",
       "    </tr>\n",
       "    <tr>\n",
       "      <th>12651</th>\n",
       "      <td>World</td>\n",
       "      <td>Projection-APS</td>\n",
       "      <td>EV charging points</td>\n",
       "      <td>EV</td>\n",
       "      <td>Publicly available fast</td>\n",
       "      <td>2035</td>\n",
       "      <td>charging points</td>\n",
       "      <td>9400000</td>\n",
       "      <td>940000000,00%</td>\n",
       "    </tr>\n",
       "    <tr>\n",
       "      <th>12652</th>\n",
       "      <td>World</td>\n",
       "      <td>Projection-APS</td>\n",
       "      <td>EV charging points</td>\n",
       "      <td>EV</td>\n",
       "      <td>Publicly available slow</td>\n",
       "      <td>2035</td>\n",
       "      <td>charging points</td>\n",
       "      <td>15000000</td>\n",
       "      <td>1500000000,00%</td>\n",
       "    </tr>\n",
       "    <tr>\n",
       "      <th>12653</th>\n",
       "      <td>World</td>\n",
       "      <td>Projection-STEPS</td>\n",
       "      <td>EV stock share</td>\n",
       "      <td>Trucks</td>\n",
       "      <td>EV</td>\n",
       "      <td>2035</td>\n",
       "      <td>percent</td>\n",
       "      <td>9</td>\n",
       "      <td>900,00%</td>\n",
       "    </tr>\n",
       "  </tbody>\n",
       "</table>\n",
       "<p>12654 rows × 9 columns</p>\n",
       "</div>"
      ]
     },
     "execution_count": 57,
     "metadata": {},
     "output_type": "execute_result"
    }
   ],
   "execution_count": 57
  },
  {
   "metadata": {
    "ExecuteTime": {
     "end_time": "2024-11-19T13:13:20.106071Z",
     "start_time": "2024-11-19T13:13:20.073165Z"
    }
   },
   "cell_type": "code",
   "source": [
    "data['value'] = pd.to_numeric(data['value'], errors='coerce')\n",
    "data['percentage'] = pd.to_numeric(data['percentage'], errors='coerce')"
   ],
   "id": "f71d0bb7d80df565",
   "outputs": [],
   "execution_count": 58
  },
  {
   "metadata": {
    "ExecuteTime": {
     "end_time": "2024-11-19T13:13:20.186742Z",
     "start_time": "2024-11-19T13:13:20.175689Z"
    }
   },
   "cell_type": "code",
   "source": "data.isnull().sum()",
   "id": "ec7b19d5f705925c",
   "outputs": [
    {
     "data": {
      "text/plain": [
       "region            0\n",
       "category          0\n",
       "parameter         0\n",
       "mode              0\n",
       "powertrain        0\n",
       "year              0\n",
       "unit              0\n",
       "value          3233\n",
       "percentage    12616\n",
       "dtype: int64"
      ]
     },
     "execution_count": 59,
     "metadata": {},
     "output_type": "execute_result"
    }
   ],
   "execution_count": 59
  },
  {
   "metadata": {
    "ExecuteTime": {
     "end_time": "2024-11-19T13:13:20.266253Z",
     "start_time": "2024-11-19T13:13:20.257703Z"
    }
   },
   "cell_type": "code",
   "source": [
    "data_filter = data[[\"year\", \"value\"]].copy()\n",
    "data_filter.dropna(inplace = True)"
   ],
   "id": "f9b994cbc4f1a993",
   "outputs": [],
   "execution_count": 60
  },
  {
   "metadata": {
    "ExecuteTime": {
     "end_time": "2024-11-19T13:13:20.426176Z",
     "start_time": "2024-11-19T13:13:20.414212Z"
    }
   },
   "cell_type": "code",
   "source": [
    "data_group = data_filter.groupby(\"year\").sum().reset_index()\n",
    "data_group"
   ],
   "id": "ab017777f9e28042",
   "outputs": [
    {
     "data": {
      "text/plain": [
       "    year         value\n",
       "0   2010  1.476500e+05\n",
       "1   2011  3.925678e+05\n",
       "2   2012  9.672260e+05\n",
       "3   2013  1.786260e+06\n",
       "4   2014  3.103352e+06\n",
       "5   2015  5.739469e+06\n",
       "6   2016  8.897489e+06\n",
       "7   2017  1.357292e+07\n",
       "8   2018  2.077595e+07\n",
       "9   2019  2.733355e+07\n",
       "10  2020  1.036456e+08\n",
       "11  2021  1.738102e+08\n",
       "12  2022  2.689570e+08\n",
       "13  2023  3.927072e+08\n",
       "14  2025  4.526501e+08\n",
       "15  2030  1.296225e+09\n",
       "16  2035  2.637279e+09"
      ],
      "text/html": [
       "<div>\n",
       "<style scoped>\n",
       "    .dataframe tbody tr th:only-of-type {\n",
       "        vertical-align: middle;\n",
       "    }\n",
       "\n",
       "    .dataframe tbody tr th {\n",
       "        vertical-align: top;\n",
       "    }\n",
       "\n",
       "    .dataframe thead th {\n",
       "        text-align: right;\n",
       "    }\n",
       "</style>\n",
       "<table border=\"1\" class=\"dataframe\">\n",
       "  <thead>\n",
       "    <tr style=\"text-align: right;\">\n",
       "      <th></th>\n",
       "      <th>year</th>\n",
       "      <th>value</th>\n",
       "    </tr>\n",
       "  </thead>\n",
       "  <tbody>\n",
       "    <tr>\n",
       "      <th>0</th>\n",
       "      <td>2010</td>\n",
       "      <td>1.476500e+05</td>\n",
       "    </tr>\n",
       "    <tr>\n",
       "      <th>1</th>\n",
       "      <td>2011</td>\n",
       "      <td>3.925678e+05</td>\n",
       "    </tr>\n",
       "    <tr>\n",
       "      <th>2</th>\n",
       "      <td>2012</td>\n",
       "      <td>9.672260e+05</td>\n",
       "    </tr>\n",
       "    <tr>\n",
       "      <th>3</th>\n",
       "      <td>2013</td>\n",
       "      <td>1.786260e+06</td>\n",
       "    </tr>\n",
       "    <tr>\n",
       "      <th>4</th>\n",
       "      <td>2014</td>\n",
       "      <td>3.103352e+06</td>\n",
       "    </tr>\n",
       "    <tr>\n",
       "      <th>5</th>\n",
       "      <td>2015</td>\n",
       "      <td>5.739469e+06</td>\n",
       "    </tr>\n",
       "    <tr>\n",
       "      <th>6</th>\n",
       "      <td>2016</td>\n",
       "      <td>8.897489e+06</td>\n",
       "    </tr>\n",
       "    <tr>\n",
       "      <th>7</th>\n",
       "      <td>2017</td>\n",
       "      <td>1.357292e+07</td>\n",
       "    </tr>\n",
       "    <tr>\n",
       "      <th>8</th>\n",
       "      <td>2018</td>\n",
       "      <td>2.077595e+07</td>\n",
       "    </tr>\n",
       "    <tr>\n",
       "      <th>9</th>\n",
       "      <td>2019</td>\n",
       "      <td>2.733355e+07</td>\n",
       "    </tr>\n",
       "    <tr>\n",
       "      <th>10</th>\n",
       "      <td>2020</td>\n",
       "      <td>1.036456e+08</td>\n",
       "    </tr>\n",
       "    <tr>\n",
       "      <th>11</th>\n",
       "      <td>2021</td>\n",
       "      <td>1.738102e+08</td>\n",
       "    </tr>\n",
       "    <tr>\n",
       "      <th>12</th>\n",
       "      <td>2022</td>\n",
       "      <td>2.689570e+08</td>\n",
       "    </tr>\n",
       "    <tr>\n",
       "      <th>13</th>\n",
       "      <td>2023</td>\n",
       "      <td>3.927072e+08</td>\n",
       "    </tr>\n",
       "    <tr>\n",
       "      <th>14</th>\n",
       "      <td>2025</td>\n",
       "      <td>4.526501e+08</td>\n",
       "    </tr>\n",
       "    <tr>\n",
       "      <th>15</th>\n",
       "      <td>2030</td>\n",
       "      <td>1.296225e+09</td>\n",
       "    </tr>\n",
       "    <tr>\n",
       "      <th>16</th>\n",
       "      <td>2035</td>\n",
       "      <td>2.637279e+09</td>\n",
       "    </tr>\n",
       "  </tbody>\n",
       "</table>\n",
       "</div>"
      ]
     },
     "execution_count": 61,
     "metadata": {},
     "output_type": "execute_result"
    }
   ],
   "execution_count": 61
  },
  {
   "metadata": {
    "ExecuteTime": {
     "end_time": "2024-11-19T13:13:20.621360Z",
     "start_time": "2024-11-19T13:13:20.502621Z"
    }
   },
   "cell_type": "code",
   "source": [
    "plt.plot(data_group[\"year\"], data_group[\"value\"])\n",
    "plt.legend()\n",
    "plt.show()"
   ],
   "id": "606b774cbfabf254",
   "outputs": [
    {
     "name": "stderr",
     "output_type": "stream",
     "text": [
      "No artists with labels found to put in legend.  Note that artists whose label start with an underscore are ignored when legend() is called with no argument.\n"
     ]
    },
    {
     "data": {
      "text/plain": [
       "<Figure size 640x480 with 1 Axes>"
      ],
      "image/png": "[encoded data removed]"
     },
     "metadata": {},
     "output_type": "display_data"
    }
   ],
   "execution_count": 62
  },
  {
   "metadata": {
    "ExecuteTime": {
     "end_time": "2024-11-19T13:13:20.909433Z",
     "start_time": "2024-11-19T13:13:20.762511Z"
    }
   },
   "cell_type": "code",
   "source": [
    "data_group[\"value\"] = np.log(data_group[\"value\"])\n",
    "plt.plot(data_group[\"year\"], data_group[\"value\"])\n",
    "plt.legend()    \n",
    "plt.show()"
   ],
   "id": "e4c6c4287d5e0249",
   "outputs": [
    {
     "name": "stderr",
     "output_type": "stream",
     "text": [
      "No artists with labels found to put in legend.  Note that artists whose label start with an underscore are ignored when legend() is called with no argument.\n"
     ]
    },
    {
     "data": {
      "text/plain": [
       "<Figure size 640x480 with 1 Axes>"
      ],
      "image/png": "[encoded data removed]"
     },
     "metadata": {},
     "output_type": "display_data"
    }
   ],
   "execution_count": 63
  },
  {
   "metadata": {
    "ExecuteTime": {
     "end_time": "2024-11-19T13:13:21.122454Z",
     "start_time": "2024-11-19T13:13:20.991768Z"
    }
   },
   "cell_type": "code",
   "source": [
    "data_corr = data_group.corr()\n",
    "sns.heatmap(data_corr, annot = True)\n",
    "plt.show()"
   ],
   "id": "eed4c79e0d5d3cb1",
   "outputs": [
    {
     "data": {
      "text/plain": [
       "<Figure size 640x480 with 2 Axes>"
      ],
      "image/png": "[encoded data removed]"
     },
     "metadata": {},
     "output_type": "display_data"
    }
   ],
   "execution_count": 64
  },
  {
   "metadata": {
    "ExecuteTime": {
     "end_time": "2024-11-19T13:13:21.157773Z",
     "start_time": "2024-11-19T13:13:21.147987Z"
    }
   },
   "cell_type": "code",
   "source": [
    "train = data_group[data_group[\"year\"] <= 2023]\n",
    "test = data_group[data_group[\"year\"] >= 2023]\n",
    "train, test"
   ],
   "id": "4a0f57d01378f348",
   "outputs": [
    {
     "data": {
      "text/plain": [
       "(    year      value\n",
       " 0   2010  11.902600\n",
       " 1   2011  12.880464\n",
       " 2   2012  13.782187\n",
       " 3   2013  14.395635\n",
       " 4   2014  14.947994\n",
       " 5   2015  15.562877\n",
       " 6   2016  16.001280\n",
       " 7   2017  16.423587\n",
       " 8   2018  16.849307\n",
       " 9   2019  17.123625\n",
       " 10  2020  18.456488\n",
       " 11  2021  18.973475\n",
       " 12  2022  19.410062\n",
       " 13  2023  19.788575,\n",
       "     year      value\n",
       " 13  2023  19.788575\n",
       " 14  2025  19.930630\n",
       " 15  2030  20.982722\n",
       " 16  2035  21.693013)"
      ]
     },
     "execution_count": 65,
     "metadata": {},
     "output_type": "execute_result"
    }
   ],
   "execution_count": 65
  },
  {
   "metadata": {
    "ExecuteTime": {
     "end_time": "2024-11-19T13:13:21.197494Z",
     "start_time": "2024-11-19T13:13:21.186935Z"
    }
   },
   "cell_type": "code",
   "source": [
    "train_diff_1 = train[\"value\"].diff().dropna()\n",
    "adfuller(train_diff_1)"
   ],
   "id": "3078eb6f6e0fff64",
   "outputs": [
    {
     "data": {
      "text/plain": [
       "(-3.3602522864086013,\n",
       " 0.012390840300830826,\n",
       " 0,\n",
       " 12,\n",
       " {'1%': -4.137829282407408,\n",
       "  '5%': -3.1549724074074077,\n",
       "  '10%': -2.7144769444444443},\n",
       " 7.64296915393604)"
      ]
     },
     "execution_count": 66,
     "metadata": {},
     "output_type": "execute_result"
    }
   ],
   "execution_count": 66
  },
  {
   "metadata": {
    "ExecuteTime": {
     "end_time": "2024-11-19T13:13:21.600388Z",
     "start_time": "2024-11-19T13:13:21.276735Z"
    }
   },
   "cell_type": "code",
   "source": [
    "plot_acf(train_diff_1)\n",
    "plt.show()\n",
    "plot_pacf(train_diff_1)\n",
    "plt.show()"
   ],
   "id": "7eed65de2e0e2079",
   "outputs": [
    {
     "data": {
      "text/plain": [
       "<Figure size 640x480 with 1 Axes>"
      ],
      "image/png": "[encoded data removed]"
     },
     "metadata": {},
     "output_type": "display_data"
    },
    {
     "data": {
      "text/plain": [
       "<Figure size 640x480 with 1 Axes>"
      ],
      "image/png": "[encoded data removed]"
     },
     "metadata": {},
     "output_type": "display_data"
    }
   ],
   "execution_count": 67
  },
  {
   "metadata": {
    "ExecuteTime": {
     "end_time": "2024-11-19T13:13:21.733468Z",
     "start_time": "2024-11-19T13:13:21.626988Z"
    }
   },
   "cell_type": "code",
   "source": [
    "model = ARIMA(train_diff_1, order = (1, 0, 1))\n",
    "model_fit = model.fit()"
   ],
   "id": "1bc4a64635aad54b",
   "outputs": [
    {
     "name": "stderr",
     "output_type": "stream",
     "text": [
      "C:\\Users\\HP\\AppData\\Local\\anaconda3\\Lib\\site-packages\\statsmodels\\tsa\\base\\tsa_model.py:473: ValueWarning: An unsupported index was provided and will be ignored when e.g. forecasting.\n",
      "  self._init_dates(dates, freq)\n",
      "C:\\Users\\HP\\AppData\\Local\\anaconda3\\Lib\\site-packages\\statsmodels\\tsa\\base\\tsa_model.py:473: ValueWarning: An unsupported index was provided and will be ignored when e.g. forecasting.\n",
      "  self._init_dates(dates, freq)\n",
      "C:\\Users\\HP\\AppData\\Local\\anaconda3\\Lib\\site-packages\\statsmodels\\tsa\\base\\tsa_model.py:473: ValueWarning: An unsupported index was provided and will be ignored when e.g. forecasting.\n",
      "  self._init_dates(dates, freq)\n",
      "C:\\Users\\HP\\AppData\\Local\\anaconda3\\Lib\\site-packages\\statsmodels\\tsa\\statespace\\sarimax.py:966: UserWarning: Non-stationary starting autoregressive parameters found. Using zeros as starting parameters.\n",
      "  warn('Non-stationary starting autoregressive parameters'\n",
      "C:\\Users\\HP\\AppData\\Local\\anaconda3\\Lib\\site-packages\\statsmodels\\tsa\\statespace\\sarimax.py:978: UserWarning: Non-invertible starting MA parameters found. Using zeros as starting parameters.\n",
      "  warn('Non-invertible starting MA parameters found.'\n"
     ]
    }
   ],
   "execution_count": 68
  },
  {
   "metadata": {
    "ExecuteTime": {
     "end_time": "2024-11-19T13:13:21.837919Z",
     "start_time": "2024-11-19T13:13:21.822787Z"
    }
   },
   "cell_type": "code",
   "source": [
    "forecast = model_fit.forecast(steps = len(test))\n",
    "forecast"
   ],
   "id": "322522842e203efc",
   "outputs": [
    {
     "name": "stderr",
     "output_type": "stream",
     "text": [
      "C:\\Users\\HP\\AppData\\Local\\anaconda3\\Lib\\site-packages\\statsmodels\\tsa\\base\\tsa_model.py:836: ValueWarning: No supported index is available. Prediction results will be given with an integer index beginning at `start`.\n",
      "  return get_prediction_index(\n",
      "C:\\Users\\HP\\AppData\\Local\\anaconda3\\Lib\\site-packages\\statsmodels\\tsa\\base\\tsa_model.py:836: FutureWarning: No supported index is available. In the next version, calling this method in a model without a supported index will result in an exception.\n",
      "  return get_prediction_index(\n"
     ]
    },
    {
     "data": {
      "text/plain": [
       "13    0.675335\n",
       "14    0.636086\n",
       "15    0.615044\n",
       "16    0.603762\n",
       "Name: predicted_mean, dtype: float64"
      ]
     },
     "execution_count": 69,
     "metadata": {},
     "output_type": "execute_result"
    }
   ],
   "execution_count": 69
  },
  {
   "metadata": {
    "ExecuteTime": {
     "end_time": "2024-11-19T13:13:22.367250Z",
     "start_time": "2024-11-19T13:13:22.222379Z"
    }
   },
   "cell_type": "code",
   "source": [
    "plt.plot(train[\"year\"], train[\"value\"], label=\"Train\", color = \"blue\")\n",
    "plt.plot(test[\"year\"], test[\"value\"], label=\"Test\", color = \"orange\")\n",
    "plt.plot(test[\"year\"], forecast, label=\"Forecast\", color = \"red\")\n",
    "plt.legend()\n",
    "plt.show()"
   ],
   "id": "5142494ad96eaa5d",
   "outputs": [
    {
     "data": {
      "text/plain": [
       "<Figure size 640x480 with 1 Axes>"
      ],
      "image/png": "[encoded data removed]"
     },
     "metadata": {},
     "output_type": "display_data"
    }
   ],
   "execution_count": 70
  },
  {
   "metadata": {
    "ExecuteTime": {
     "end_time": "2024-11-19T13:13:22.437765Z",
     "start_time": "2024-11-19T13:13:22.428304Z"
    }
   },
   "cell_type": "code",
   "source": [
    "mean_squared_error(test[\"value\"], forecast), mean_absolute_error(test[\"value\"], forecast), mean_absolute_percentage_error(test[\"value\"], forecast)\n",
    "# MSE - MAE - MAPE "
   ],
   "id": "3a83ab550099b4d9",
   "outputs": [
    {
     "data": {
      "text/plain": [
       "(399.29854934340784, 19.966178319164758, 0.9692033692066742)"
      ]
     },
     "execution_count": 71,
     "metadata": {},
     "output_type": "execute_result"
    }
   ],
   "execution_count": 71
  },
  {
   "metadata": {},
   "cell_type": "markdown",
   "source": [
    "ARIMA(0, 1, 0): (409.4692977057308, 20.220222402298806, 0.9815982045239592) <br/>\n",
    "ARIMA(1, 1, 1): (400.48434028406496, 19.99698452001091, 0.970753535545093) </br>\n",
    "ARIMA(1, 0, 1): (399.29854934340784, 19.966178319164758, 0.9692033692066742) </br>"
   ],
   "id": "951f6226778829a6"
  }
 ],
 "metadata": {
  "kernelspec": {
   "display_name": "Python 3",
   "language": "python",
   "name": "python3"
  },
  "language_info": {
   "codemirror_mode": {
    "name": "ipython",
    "version": 2
   },
   "file_extension": ".py",
   "mimetype": "text/x-python",
   "name": "python",
   "nbconvert_exporter": "python",
   "pygments_lexer": "ipython2",
   "version": "2.7.6"
  }
 },
 "nbformat": 4,
 "nbformat_minor": 5
}

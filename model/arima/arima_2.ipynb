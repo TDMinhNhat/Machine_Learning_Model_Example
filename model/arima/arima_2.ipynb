{
 "cells": [
  {
   "cell_type": "code",
   "id": "initial_id",
   "metadata": {
    "collapsed": true,
    "ExecuteTime": {
     "end_time": "2024-11-19T02:19:56.437457Z",
     "start_time": "2024-11-19T02:19:56.431947Z"
    }
   },
   "source": [
    "import numpy as np\n",
    "import pandas as pd\n",
    "import matplotlib.pyplot as plt\n",
    "from statsmodels.tsa.arima.model import ARIMA\n",
    "from statsmodels.tsa.stattools import adfuller\n",
    "from statsmodels.graphics.tsaplots import plot_acf, plot_pacf\n",
    "from sklearn.metrics import mean_squared_error, mean_absolute_error, mean_absolute_percentage_error\n",
    "from sklearn.model_selection import train_test_split\n",
    "from pmdarima import auto_arima"
   ],
   "outputs": [],
   "execution_count": 16
  },
  {
   "metadata": {
    "ExecuteTime": {
     "end_time": "2024-11-19T02:18:53.309324Z",
     "start_time": "2024-11-19T02:18:53.265200Z"
    }
   },
   "cell_type": "code",
   "source": [
    "data = pd.read_csv(\"../../datas/IEA Global EV Data 2024 new.csv\", header = 0, delimiter = \",\")\n",
    "data"
   ],
   "id": "4a7b164d10ad2784",
   "outputs": [
    {
     "data": {
      "text/plain": [
       "        region          category           parameter    mode  \\\n",
       "0      Austria        Historical            EV stock    Cars   \n",
       "1      Austria        Historical      EV stock share    Cars   \n",
       "2      Belgium        Historical            EV stock   Buses   \n",
       "3      Belgium        Historical            EV sales    Vans   \n",
       "4      Belgium        Historical            EV stock    Vans   \n",
       "...        ...               ...                 ...     ...   \n",
       "12649    World  Projection-STEPS      EV sales share    Cars   \n",
       "12650    World  Projection-STEPS      EV stock share    Cars   \n",
       "12651    World    Projection-APS  EV charging points      EV   \n",
       "12652    World    Projection-APS  EV charging points      EV   \n",
       "12653    World  Projection-STEPS      EV stock share  Trucks   \n",
       "\n",
       "                    powertrain  year             unit            value  \\\n",
       "0                          BEV  2010         Vehicles              350   \n",
       "1                           EV  2010          percent  789.999.961.853   \n",
       "2                          BEV  2010         Vehicles                3   \n",
       "3                          BEV  2010         Vehicles                7   \n",
       "4                          BEV  2010         Vehicles               62   \n",
       "...                        ...   ...              ...              ...   \n",
       "12649                       EV  2035          percent               55   \n",
       "12650                       EV  2035          percent               31   \n",
       "12651  Publicly available fast  2035  charging points          9400000   \n",
       "12652  Publicly available slow  2035  charging points         15000000   \n",
       "12653                       EV  2035          percent                9   \n",
       "\n",
       "               percentage  \n",
       "0               35000,00%  \n",
       "1      78999996185300,00%  \n",
       "2                 300,00%  \n",
       "3                 700,00%  \n",
       "4                6200,00%  \n",
       "...                   ...  \n",
       "12649            5500,00%  \n",
       "12650            3100,00%  \n",
       "12651       940000000,00%  \n",
       "12652      1500000000,00%  \n",
       "12653             900,00%  \n",
       "\n",
       "[12654 rows x 9 columns]"
      ],
      "text/html": [
       "<div>\n",
       "<style scoped>\n",
       "    .dataframe tbody tr th:only-of-type {\n",
       "        vertical-align: middle;\n",
       "    }\n",
       "\n",
       "    .dataframe tbody tr th {\n",
       "        vertical-align: top;\n",
       "    }\n",
       "\n",
       "    .dataframe thead th {\n",
       "        text-align: right;\n",
       "    }\n",
       "</style>\n",
       "<table border=\"1\" class=\"dataframe\">\n",
       "  <thead>\n",
       "    <tr style=\"text-align: right;\">\n",
       "      <th></th>\n",
       "      <th>region</th>\n",
       "      <th>category</th>\n",
       "      <th>parameter</th>\n",
       "      <th>mode</th>\n",
       "      <th>powertrain</th>\n",
       "      <th>year</th>\n",
       "      <th>unit</th>\n",
       "      <th>value</th>\n",
       "      <th>percentage</th>\n",
       "    </tr>\n",
       "  </thead>\n",
       "  <tbody>\n",
       "    <tr>\n",
       "      <th>0</th>\n",
       "      <td>Austria</td>\n",
       "      <td>Historical</td>\n",
       "      <td>EV stock</td>\n",
       "      <td>Cars</td>\n",
       "      <td>BEV</td>\n",
       "      <td>2010</td>\n",
       "      <td>Vehicles</td>\n",
       "      <td>350</td>\n",
       "      <td>35000,00%</td>\n",
       "    </tr>\n",
       "    <tr>\n",
       "      <th>1</th>\n",
       "      <td>Austria</td>\n",
       "      <td>Historical</td>\n",
       "      <td>EV stock share</td>\n",
       "      <td>Cars</td>\n",
       "      <td>EV</td>\n",
       "      <td>2010</td>\n",
       "      <td>percent</td>\n",
       "      <td>789.999.961.853</td>\n",
       "      <td>78999996185300,00%</td>\n",
       "    </tr>\n",
       "    <tr>\n",
       "      <th>2</th>\n",
       "      <td>Belgium</td>\n",
       "      <td>Historical</td>\n",
       "      <td>EV stock</td>\n",
       "      <td>Buses</td>\n",
       "      <td>BEV</td>\n",
       "      <td>2010</td>\n",
       "      <td>Vehicles</td>\n",
       "      <td>3</td>\n",
       "      <td>300,00%</td>\n",
       "    </tr>\n",
       "    <tr>\n",
       "      <th>3</th>\n",
       "      <td>Belgium</td>\n",
       "      <td>Historical</td>\n",
       "      <td>EV sales</td>\n",
       "      <td>Vans</td>\n",
       "      <td>BEV</td>\n",
       "      <td>2010</td>\n",
       "      <td>Vehicles</td>\n",
       "      <td>7</td>\n",
       "      <td>700,00%</td>\n",
       "    </tr>\n",
       "    <tr>\n",
       "      <th>4</th>\n",
       "      <td>Belgium</td>\n",
       "      <td>Historical</td>\n",
       "      <td>EV stock</td>\n",
       "      <td>Vans</td>\n",
       "      <td>BEV</td>\n",
       "      <td>2010</td>\n",
       "      <td>Vehicles</td>\n",
       "      <td>62</td>\n",
       "      <td>6200,00%</td>\n",
       "    </tr>\n",
       "    <tr>\n",
       "      <th>...</th>\n",
       "      <td>...</td>\n",
       "      <td>...</td>\n",
       "      <td>...</td>\n",
       "      <td>...</td>\n",
       "      <td>...</td>\n",
       "      <td>...</td>\n",
       "      <td>...</td>\n",
       "      <td>...</td>\n",
       "      <td>...</td>\n",
       "    </tr>\n",
       "    <tr>\n",
       "      <th>12649</th>\n",
       "      <td>World</td>\n",
       "      <td>Projection-STEPS</td>\n",
       "      <td>EV sales share</td>\n",
       "      <td>Cars</td>\n",
       "      <td>EV</td>\n",
       "      <td>2035</td>\n",
       "      <td>percent</td>\n",
       "      <td>55</td>\n",
       "      <td>5500,00%</td>\n",
       "    </tr>\n",
       "    <tr>\n",
       "      <th>12650</th>\n",
       "      <td>World</td>\n",
       "      <td>Projection-STEPS</td>\n",
       "      <td>EV stock share</td>\n",
       "      <td>Cars</td>\n",
       "      <td>EV</td>\n",
       "      <td>2035</td>\n",
       "      <td>percent</td>\n",
       "      <td>31</td>\n",
       "      <td>3100,00%</td>\n",
       "    </tr>\n",
       "    <tr>\n",
       "      <th>12651</th>\n",
       "      <td>World</td>\n",
       "      <td>Projection-APS</td>\n",
       "      <td>EV charging points</td>\n",
       "      <td>EV</td>\n",
       "      <td>Publicly available fast</td>\n",
       "      <td>2035</td>\n",
       "      <td>charging points</td>\n",
       "      <td>9400000</td>\n",
       "      <td>940000000,00%</td>\n",
       "    </tr>\n",
       "    <tr>\n",
       "      <th>12652</th>\n",
       "      <td>World</td>\n",
       "      <td>Projection-APS</td>\n",
       "      <td>EV charging points</td>\n",
       "      <td>EV</td>\n",
       "      <td>Publicly available slow</td>\n",
       "      <td>2035</td>\n",
       "      <td>charging points</td>\n",
       "      <td>15000000</td>\n",
       "      <td>1500000000,00%</td>\n",
       "    </tr>\n",
       "    <tr>\n",
       "      <th>12653</th>\n",
       "      <td>World</td>\n",
       "      <td>Projection-STEPS</td>\n",
       "      <td>EV stock share</td>\n",
       "      <td>Trucks</td>\n",
       "      <td>EV</td>\n",
       "      <td>2035</td>\n",
       "      <td>percent</td>\n",
       "      <td>9</td>\n",
       "      <td>900,00%</td>\n",
       "    </tr>\n",
       "  </tbody>\n",
       "</table>\n",
       "<p>12654 rows × 9 columns</p>\n",
       "</div>"
      ]
     },
     "execution_count": 2,
     "metadata": {},
     "output_type": "execute_result"
    }
   ],
   "execution_count": 2
  },
  {
   "metadata": {
    "ExecuteTime": {
     "end_time": "2024-11-19T02:18:53.754454Z",
     "start_time": "2024-11-19T02:18:53.723492Z"
    }
   },
   "cell_type": "code",
   "source": [
    "data['percentage'] = data['percentage'].str.replace(',', '').str.replace('%', '').astype(float)\n",
    "data['value'] = data['value'].str.replace(',', '').str.replace('.', '', regex=False)\n",
    "data['value'] = pd.to_numeric(data['value'], errors='coerce')"
   ],
   "id": "ed8e7b66697bd2ec",
   "outputs": [],
   "execution_count": 3
  },
  {
   "metadata": {
    "ExecuteTime": {
     "end_time": "2024-11-19T02:18:53.886374Z",
     "start_time": "2024-11-19T02:18:53.873985Z"
    }
   },
   "cell_type": "code",
   "source": "data.isnull().sum()",
   "id": "358f6cf966d57008",
   "outputs": [
    {
     "data": {
      "text/plain": [
       "region        0\n",
       "category      0\n",
       "parameter     0\n",
       "mode          0\n",
       "powertrain    0\n",
       "year          0\n",
       "unit          0\n",
       "value         0\n",
       "percentage    0\n",
       "dtype: int64"
      ]
     },
     "execution_count": 4,
     "metadata": {},
     "output_type": "execute_result"
    }
   ],
   "execution_count": 4
  },
  {
   "metadata": {
    "ExecuteTime": {
     "end_time": "2024-11-19T02:18:54.040290Z",
     "start_time": "2024-11-19T02:18:54.027237Z"
    }
   },
   "cell_type": "code",
   "source": [
    "data_process = data[[\"year\", \"value\"]]\n",
    "data_process"
   ],
   "id": "b9d02cd0a24d6f1c",
   "outputs": [
    {
     "data": {
      "text/plain": [
       "       year         value\n",
       "0      2010  3.500000e+02\n",
       "1      2010  7.900000e+11\n",
       "2      2010  3.000000e+00\n",
       "3      2010  7.000000e+00\n",
       "4      2010  6.200000e+01\n",
       "...     ...           ...\n",
       "12649  2035  5.500000e+01\n",
       "12650  2035  3.100000e+01\n",
       "12651  2035  9.400000e+06\n",
       "12652  2035  1.500000e+07\n",
       "12653  2035  9.000000e+00\n",
       "\n",
       "[12654 rows x 2 columns]"
      ],
      "text/html": [
       "<div>\n",
       "<style scoped>\n",
       "    .dataframe tbody tr th:only-of-type {\n",
       "        vertical-align: middle;\n",
       "    }\n",
       "\n",
       "    .dataframe tbody tr th {\n",
       "        vertical-align: top;\n",
       "    }\n",
       "\n",
       "    .dataframe thead th {\n",
       "        text-align: right;\n",
       "    }\n",
       "</style>\n",
       "<table border=\"1\" class=\"dataframe\">\n",
       "  <thead>\n",
       "    <tr style=\"text-align: right;\">\n",
       "      <th></th>\n",
       "      <th>year</th>\n",
       "      <th>value</th>\n",
       "    </tr>\n",
       "  </thead>\n",
       "  <tbody>\n",
       "    <tr>\n",
       "      <th>0</th>\n",
       "      <td>2010</td>\n",
       "      <td>3.500000e+02</td>\n",
       "    </tr>\n",
       "    <tr>\n",
       "      <th>1</th>\n",
       "      <td>2010</td>\n",
       "      <td>7.900000e+11</td>\n",
       "    </tr>\n",
       "    <tr>\n",
       "      <th>2</th>\n",
       "      <td>2010</td>\n",
       "      <td>3.000000e+00</td>\n",
       "    </tr>\n",
       "    <tr>\n",
       "      <th>3</th>\n",
       "      <td>2010</td>\n",
       "      <td>7.000000e+00</td>\n",
       "    </tr>\n",
       "    <tr>\n",
       "      <th>4</th>\n",
       "      <td>2010</td>\n",
       "      <td>6.200000e+01</td>\n",
       "    </tr>\n",
       "    <tr>\n",
       "      <th>...</th>\n",
       "      <td>...</td>\n",
       "      <td>...</td>\n",
       "    </tr>\n",
       "    <tr>\n",
       "      <th>12649</th>\n",
       "      <td>2035</td>\n",
       "      <td>5.500000e+01</td>\n",
       "    </tr>\n",
       "    <tr>\n",
       "      <th>12650</th>\n",
       "      <td>2035</td>\n",
       "      <td>3.100000e+01</td>\n",
       "    </tr>\n",
       "    <tr>\n",
       "      <th>12651</th>\n",
       "      <td>2035</td>\n",
       "      <td>9.400000e+06</td>\n",
       "    </tr>\n",
       "    <tr>\n",
       "      <th>12652</th>\n",
       "      <td>2035</td>\n",
       "      <td>1.500000e+07</td>\n",
       "    </tr>\n",
       "    <tr>\n",
       "      <th>12653</th>\n",
       "      <td>2035</td>\n",
       "      <td>9.000000e+00</td>\n",
       "    </tr>\n",
       "  </tbody>\n",
       "</table>\n",
       "<p>12654 rows × 2 columns</p>\n",
       "</div>"
      ]
     },
     "execution_count": 5,
     "metadata": {},
     "output_type": "execute_result"
    }
   ],
   "execution_count": 5
  },
  {
   "metadata": {
    "ExecuteTime": {
     "end_time": "2024-11-19T02:47:04.018219Z",
     "start_time": "2024-11-19T02:47:04.010969Z"
    }
   },
   "cell_type": "code",
   "source": "data_process[\"year\"].value_counts()",
   "id": "4f3651692df51bac",
   "outputs": [
    {
     "data": {
      "text/plain": [
       "year\n",
       "2023    1348\n",
       "2021    1342\n",
       "2022    1336\n",
       "2020    1282\n",
       "2019     797\n",
       "2018     761\n",
       "2017     720\n",
       "2016     668\n",
       "2015     621\n",
       "2030     550\n",
       "2025     549\n",
       "2035     549\n",
       "2014     515\n",
       "2013     481\n",
       "2012     442\n",
       "2011     390\n",
       "2010     303\n",
       "Name: count, dtype: int64"
      ]
     },
     "execution_count": 87,
     "metadata": {},
     "output_type": "execute_result"
    }
   ],
   "execution_count": 87
  },
  {
   "metadata": {
    "ExecuteTime": {
     "end_time": "2024-11-19T02:18:54.229972Z",
     "start_time": "2024-11-19T02:18:54.217138Z"
    }
   },
   "cell_type": "code",
   "source": [
    "data_group = data_process.groupby(\"year\").sum()\n",
    "data_group"
   ],
   "id": "58e5cd37454e4a9e",
   "outputs": [
    {
     "data": {
      "text/plain": [
       "             value\n",
       "year              \n",
       "2010  1.109653e+16\n",
       "2011  1.203114e+16\n",
       "2012  1.902760e+16\n",
       "2013  2.240774e+16\n",
       "2014  3.036949e+16\n",
       "2015  3.043629e+16\n",
       "2016  3.902947e+16\n",
       "2017  4.648228e+16\n",
       "2018  5.332812e+16\n",
       "2019  6.069682e+16\n",
       "2020  8.469822e+16\n",
       "2021  8.350286e+16\n",
       "2022  9.071506e+16\n",
       "2023  8.565454e+16\n",
       "2025  1.254285e+16\n",
       "2030  9.765601e+15\n",
       "2035  1.148600e+16"
      ],
      "text/html": [
       "<div>\n",
       "<style scoped>\n",
       "    .dataframe tbody tr th:only-of-type {\n",
       "        vertical-align: middle;\n",
       "    }\n",
       "\n",
       "    .dataframe tbody tr th {\n",
       "        vertical-align: top;\n",
       "    }\n",
       "\n",
       "    .dataframe thead th {\n",
       "        text-align: right;\n",
       "    }\n",
       "</style>\n",
       "<table border=\"1\" class=\"dataframe\">\n",
       "  <thead>\n",
       "    <tr style=\"text-align: right;\">\n",
       "      <th></th>\n",
       "      <th>value</th>\n",
       "    </tr>\n",
       "    <tr>\n",
       "      <th>year</th>\n",
       "      <th></th>\n",
       "    </tr>\n",
       "  </thead>\n",
       "  <tbody>\n",
       "    <tr>\n",
       "      <th>2010</th>\n",
       "      <td>1.109653e+16</td>\n",
       "    </tr>\n",
       "    <tr>\n",
       "      <th>2011</th>\n",
       "      <td>1.203114e+16</td>\n",
       "    </tr>\n",
       "    <tr>\n",
       "      <th>2012</th>\n",
       "      <td>1.902760e+16</td>\n",
       "    </tr>\n",
       "    <tr>\n",
       "      <th>2013</th>\n",
       "      <td>2.240774e+16</td>\n",
       "    </tr>\n",
       "    <tr>\n",
       "      <th>2014</th>\n",
       "      <td>3.036949e+16</td>\n",
       "    </tr>\n",
       "    <tr>\n",
       "      <th>2015</th>\n",
       "      <td>3.043629e+16</td>\n",
       "    </tr>\n",
       "    <tr>\n",
       "      <th>2016</th>\n",
       "      <td>3.902947e+16</td>\n",
       "    </tr>\n",
       "    <tr>\n",
       "      <th>2017</th>\n",
       "      <td>4.648228e+16</td>\n",
       "    </tr>\n",
       "    <tr>\n",
       "      <th>2018</th>\n",
       "      <td>5.332812e+16</td>\n",
       "    </tr>\n",
       "    <tr>\n",
       "      <th>2019</th>\n",
       "      <td>6.069682e+16</td>\n",
       "    </tr>\n",
       "    <tr>\n",
       "      <th>2020</th>\n",
       "      <td>8.469822e+16</td>\n",
       "    </tr>\n",
       "    <tr>\n",
       "      <th>2021</th>\n",
       "      <td>8.350286e+16</td>\n",
       "    </tr>\n",
       "    <tr>\n",
       "      <th>2022</th>\n",
       "      <td>9.071506e+16</td>\n",
       "    </tr>\n",
       "    <tr>\n",
       "      <th>2023</th>\n",
       "      <td>8.565454e+16</td>\n",
       "    </tr>\n",
       "    <tr>\n",
       "      <th>2025</th>\n",
       "      <td>1.254285e+16</td>\n",
       "    </tr>\n",
       "    <tr>\n",
       "      <th>2030</th>\n",
       "      <td>9.765601e+15</td>\n",
       "    </tr>\n",
       "    <tr>\n",
       "      <th>2035</th>\n",
       "      <td>1.148600e+16</td>\n",
       "    </tr>\n",
       "  </tbody>\n",
       "</table>\n",
       "</div>"
      ]
     },
     "execution_count": 6,
     "metadata": {},
     "output_type": "execute_result"
    }
   ],
   "execution_count": 6
  },
  {
   "metadata": {
    "ExecuteTime": {
     "end_time": "2024-11-19T02:18:54.701396Z",
     "start_time": "2024-11-19T02:18:54.429896Z"
    }
   },
   "cell_type": "code",
   "source": [
    "plt.plot(data_group[\"value\"])\n",
    "plt.legend()\n",
    "plt.show()"
   ],
   "id": "12e8ec225507af57",
   "outputs": [
    {
     "name": "stderr",
     "output_type": "stream",
     "text": [
      "No artists with labels found to put in legend.  Note that artists whose label start with an underscore are ignored when legend() is called with no argument.\n"
     ]
    },
    {
     "data": {
      "text/plain": [
       "<Figure size 640x480 with 1 Axes>"
      ],
      "image/png": "[encoded data removed]"
     },
     "metadata": {},
     "output_type": "display_data"
    }
   ],
   "execution_count": 7
  },
  {
   "metadata": {
    "ExecuteTime": {
     "end_time": "2024-11-19T02:18:55.112935Z",
     "start_time": "2024-11-19T02:18:54.886491Z"
    }
   },
   "cell_type": "code",
   "source": [
    "data_group[\"value\"] = np.log(data_group[\"value\"])\n",
    "plt.plot(data_group[\"value\"])\n",
    "plt.legend()\n",
    "plt.show()\n",
    "\n",
    "adfuller(data_group[\"value\"])"
   ],
   "id": "d7075c99f4cbc246",
   "outputs": [
    {
     "name": "stderr",
     "output_type": "stream",
     "text": [
      "No artists with labels found to put in legend.  Note that artists whose label start with an underscore are ignored when legend() is called with no argument.\n"
     ]
    },
    {
     "data": {
      "text/plain": [
       "<Figure size 640x480 with 1 Axes>"
      ],
      "image/png": "[encoded data removed]"
     },
     "metadata": {},
     "output_type": "display_data"
    },
    {
     "data": {
      "text/plain": [
       "(-3.0631320388842456,\n",
       " 0.029404643268910752,\n",
       " 5,\n",
       " 11,\n",
       " {'1%': -4.223238279489106,\n",
       "  '5%': -3.189368925619835,\n",
       "  '10%': -2.729839421487603},\n",
       " 17.932352553737427)"
      ]
     },
     "execution_count": 8,
     "metadata": {},
     "output_type": "execute_result"
    }
   ],
   "execution_count": 8
  },
  {
   "metadata": {
    "ExecuteTime": {
     "end_time": "2024-11-19T02:18:55.350272Z",
     "start_time": "2024-11-19T02:18:55.345260Z"
    }
   },
   "cell_type": "code",
   "source": [
    "train_size = int(len(data_group) * 0.8)\n",
    "train,test = data_group[:train_size], data_group[train_size:]\n",
    "# train = data_group[data_group[\"year\"] <= 2024][\"value\"]\n",
    "# test = data_group[data_group[\"year\"] > 2024][\"value\"]"
   ],
   "id": "4dfccc5bff558f87",
   "outputs": [],
   "execution_count": 9
  },
  {
   "metadata": {
    "ExecuteTime": {
     "end_time": "2024-11-19T02:33:11.708980Z",
     "start_time": "2024-11-19T02:33:11.680401Z"
    }
   },
   "cell_type": "code",
   "source": [
    "model = ARIMA(train, order = (0, 0, 1))\n",
    "model_fit = model.fit()"
   ],
   "id": "adf47301184379e3",
   "outputs": [
    {
     "name": "stderr",
     "output_type": "stream",
     "text": [
      "C:\\Users\\HP\\AppData\\Local\\anaconda3\\Lib\\site-packages\\statsmodels\\tsa\\base\\tsa_model.py:473: ValueWarning: An unsupported index was provided and will be ignored when e.g. forecasting.\n",
      "  self._init_dates(dates, freq)\n",
      "C:\\Users\\HP\\AppData\\Local\\anaconda3\\Lib\\site-packages\\statsmodels\\tsa\\base\\tsa_model.py:473: ValueWarning: An unsupported index was provided and will be ignored when e.g. forecasting.\n",
      "  self._init_dates(dates, freq)\n",
      "C:\\Users\\HP\\AppData\\Local\\anaconda3\\Lib\\site-packages\\statsmodels\\tsa\\base\\tsa_model.py:473: ValueWarning: An unsupported index was provided and will be ignored when e.g. forecasting.\n",
      "  self._init_dates(dates, freq)\n"
     ]
    }
   ],
   "execution_count": 75
  },
  {
   "metadata": {
    "ExecuteTime": {
     "end_time": "2024-11-19T02:33:13.536681Z",
     "start_time": "2024-11-19T02:33:13.197443Z"
    }
   },
   "cell_type": "code",
   "source": [
    "forecast = model_fit.forecast(steps=len(test))\n",
    "plt.figure(figsize=(10, 5))\n",
    "plt.plot(data_group.index[:train_size], train, label='Train', color='blue')\n",
    "plt.plot(data_group.index[train_size:], test, label='Test', color='green')\n",
    "plt.plot(data_group.index[train_size:], forecast, label='Forecast', color='red')\n",
    "plt.legend()\n",
    "plt.title('ARIMA Forecast vs Actual')\n",
    "plt.show()"
   ],
   "id": "c2f42116c31ff48",
   "outputs": [
    {
     "name": "stderr",
     "output_type": "stream",
     "text": [
      "C:\\Users\\HP\\AppData\\Local\\anaconda3\\Lib\\site-packages\\statsmodels\\tsa\\base\\tsa_model.py:836: ValueWarning: No supported index is available. Prediction results will be given with an integer index beginning at `start`.\n",
      "  return get_prediction_index(\n",
      "C:\\Users\\HP\\AppData\\Local\\anaconda3\\Lib\\site-packages\\statsmodels\\tsa\\base\\tsa_model.py:836: FutureWarning: No supported index is available. In the next version, calling this method in a model without a supported index will result in an exception.\n",
      "  return get_prediction_index(\n"
     ]
    },
    {
     "data": {
      "text/plain": [
       "<Figure size 1000x500 with 1 Axes>"
      ],
      "image/png": "[encoded data removed]"
     },
     "metadata": {},
     "output_type": "display_data"
    }
   ],
   "execution_count": 76
  },
  {
   "metadata": {
    "ExecuteTime": {
     "end_time": "2024-11-19T02:33:18.834797Z",
     "start_time": "2024-11-19T02:33:18.823353Z"
    }
   },
   "cell_type": "code",
   "source": "mean_absolute_error(test, forecast), mean_absolute_percentage_error(test, forecast), np.sqrt(mean_squared_error(test, forecast))",
   "id": "50b68412c1626e10",
   "outputs": [
    {
     "data": {
      "text/plain": [
       "(0.9622552486126619, 0.02595280873554292, 1.048043916640192)"
      ]
     },
     "execution_count": 77,
     "metadata": {},
     "output_type": "execute_result"
    }
   ],
   "execution_count": 77
  },
  {
   "metadata": {},
   "cell_type": "markdown",
   "source": [
    "ARIMA(1, 2, 3): (1.8490461156648959, 0.05000384876205932, 2.109069774054806) <br/>\n",
    "ARIMA(2, 0, 2): (1.8116643179843024, 0.04896655274580544, 2.0445913456052645) <br/>\n",
    "ARIMA(2, 0, 0): (1.4915722429127118, 0.04034811050849511, 1.7094252404410897) <br/>\n",
    "ARIMA(1, 0, 2): (1.3920376082683799, 0.03764225238443543, 1.5847247284184474) <br/>\n",
    "ARIMA(3, 0, 0): (1.3782497666876008, 0.037288097105754064, 1.5859935622842356) <br/>\n",
    "ARIMA(0, 0, 2): (1.0064339342265871, 0.027218462779165356, 1.155180230205046) <br/>\n",
    "ARIMA(0, 0, 1): (0.9622552486126619, 0.02595280873554292, 1.048043916640192) <br/>"
   ],
   "id": "e9cd7ff57c8cf572"
  }
 ],
 "metadata": {
  "kernelspec": {
   "display_name": "Python 3",
   "language": "python",
   "name": "python3"
  },
  "language_info": {
   "codemirror_mode": {
    "name": "ipython",
    "version": 2
   },
   "file_extension": ".py",
   "mimetype": "text/x-python",
   "name": "python",
   "nbconvert_exporter": "python",
   "pygments_lexer": "ipython2",
   "version": "2.7.6"
  }
 },
 "nbformat": 4,
 "nbformat_minor": 5
}

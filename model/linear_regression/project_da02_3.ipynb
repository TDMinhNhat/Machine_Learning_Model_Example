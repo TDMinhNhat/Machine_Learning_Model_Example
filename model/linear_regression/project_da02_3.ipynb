{
 "cells": [
  {
   "cell_type": "code",
   "execution_count": 731,
   "id": "initial_id",
   "metadata": {
    "ExecuteTime": {
     "end_time": "2024-11-20T07:07:15.315731Z",
     "start_time": "2024-11-20T07:07:13.688298Z"
    },
    "collapsed": true
   },
   "outputs": [],
   "source": [
    "import numpy as np\n",
    "import pandas as pd\n",
    "import matplotlib.pyplot as plt\n",
    "import seaborn as sns\n",
    "from sklearn.metrics import mean_squared_error, mean_absolute_error, mean_absolute_percentage_error, r2_score\n",
    "from sklearn.model_selection import train_test_split\n",
    "from sklearn.linear_model import LinearRegression"
   ]
  },
  {
   "cell_type": "code",
   "execution_count": 732,
   "id": "bc58b3d90bd712dc",
   "metadata": {
    "ExecuteTime": {
     "end_time": "2024-11-20T07:07:29.832370Z",
     "start_time": "2024-11-20T07:07:29.783206Z"
    }
   },
   "outputs": [
    {
     "data": {
      "text/html": [
       "<div>\n",
       "<style scoped>\n",
       "    .dataframe tbody tr th:only-of-type {\n",
       "        vertical-align: middle;\n",
       "    }\n",
       "\n",
       "    .dataframe tbody tr th {\n",
       "        vertical-align: top;\n",
       "    }\n",
       "\n",
       "    .dataframe thead th {\n",
       "        text-align: right;\n",
       "    }\n",
       "</style>\n",
       "<table border=\"1\" class=\"dataframe\">\n",
       "  <thead>\n",
       "    <tr style=\"text-align: right;\">\n",
       "      <th></th>\n",
       "      <th>region</th>\n",
       "      <th>category</th>\n",
       "      <th>parameter</th>\n",
       "      <th>mode</th>\n",
       "      <th>powertrain</th>\n",
       "      <th>year</th>\n",
       "      <th>unit</th>\n",
       "      <th>value</th>\n",
       "      <th>percentage</th>\n",
       "    </tr>\n",
       "  </thead>\n",
       "  <tbody>\n",
       "    <tr>\n",
       "      <th>0</th>\n",
       "      <td>Austria</td>\n",
       "      <td>Historical</td>\n",
       "      <td>EV stock</td>\n",
       "      <td>Cars</td>\n",
       "      <td>BEV</td>\n",
       "      <td>2010</td>\n",
       "      <td>Vehicles</td>\n",
       "      <td>350</td>\n",
       "      <td>35000,00%</td>\n",
       "    </tr>\n",
       "    <tr>\n",
       "      <th>1</th>\n",
       "      <td>Austria</td>\n",
       "      <td>Historical</td>\n",
       "      <td>EV stock share</td>\n",
       "      <td>Cars</td>\n",
       "      <td>EV</td>\n",
       "      <td>2010</td>\n",
       "      <td>percent</td>\n",
       "      <td>789.999.961.853</td>\n",
       "      <td>78999996185300,00%</td>\n",
       "    </tr>\n",
       "    <tr>\n",
       "      <th>2</th>\n",
       "      <td>Belgium</td>\n",
       "      <td>Historical</td>\n",
       "      <td>EV stock</td>\n",
       "      <td>Buses</td>\n",
       "      <td>BEV</td>\n",
       "      <td>2010</td>\n",
       "      <td>Vehicles</td>\n",
       "      <td>3</td>\n",
       "      <td>300,00%</td>\n",
       "    </tr>\n",
       "    <tr>\n",
       "      <th>3</th>\n",
       "      <td>Belgium</td>\n",
       "      <td>Historical</td>\n",
       "      <td>EV sales</td>\n",
       "      <td>Vans</td>\n",
       "      <td>BEV</td>\n",
       "      <td>2010</td>\n",
       "      <td>Vehicles</td>\n",
       "      <td>7</td>\n",
       "      <td>700,00%</td>\n",
       "    </tr>\n",
       "    <tr>\n",
       "      <th>4</th>\n",
       "      <td>Belgium</td>\n",
       "      <td>Historical</td>\n",
       "      <td>EV stock</td>\n",
       "      <td>Vans</td>\n",
       "      <td>BEV</td>\n",
       "      <td>2010</td>\n",
       "      <td>Vehicles</td>\n",
       "      <td>62</td>\n",
       "      <td>6200,00%</td>\n",
       "    </tr>\n",
       "    <tr>\n",
       "      <th>...</th>\n",
       "      <td>...</td>\n",
       "      <td>...</td>\n",
       "      <td>...</td>\n",
       "      <td>...</td>\n",
       "      <td>...</td>\n",
       "      <td>...</td>\n",
       "      <td>...</td>\n",
       "      <td>...</td>\n",
       "      <td>...</td>\n",
       "    </tr>\n",
       "    <tr>\n",
       "      <th>12649</th>\n",
       "      <td>World</td>\n",
       "      <td>Projection-STEPS</td>\n",
       "      <td>EV sales share</td>\n",
       "      <td>Cars</td>\n",
       "      <td>EV</td>\n",
       "      <td>2035</td>\n",
       "      <td>percent</td>\n",
       "      <td>55</td>\n",
       "      <td>5500,00%</td>\n",
       "    </tr>\n",
       "    <tr>\n",
       "      <th>12650</th>\n",
       "      <td>World</td>\n",
       "      <td>Projection-STEPS</td>\n",
       "      <td>EV stock share</td>\n",
       "      <td>Cars</td>\n",
       "      <td>EV</td>\n",
       "      <td>2035</td>\n",
       "      <td>percent</td>\n",
       "      <td>31</td>\n",
       "      <td>3100,00%</td>\n",
       "    </tr>\n",
       "    <tr>\n",
       "      <th>12651</th>\n",
       "      <td>World</td>\n",
       "      <td>Projection-APS</td>\n",
       "      <td>EV charging points</td>\n",
       "      <td>EV</td>\n",
       "      <td>Publicly available fast</td>\n",
       "      <td>2035</td>\n",
       "      <td>charging points</td>\n",
       "      <td>9400000</td>\n",
       "      <td>940000000,00%</td>\n",
       "    </tr>\n",
       "    <tr>\n",
       "      <th>12652</th>\n",
       "      <td>World</td>\n",
       "      <td>Projection-APS</td>\n",
       "      <td>EV charging points</td>\n",
       "      <td>EV</td>\n",
       "      <td>Publicly available slow</td>\n",
       "      <td>2035</td>\n",
       "      <td>charging points</td>\n",
       "      <td>15000000</td>\n",
       "      <td>1500000000,00%</td>\n",
       "    </tr>\n",
       "    <tr>\n",
       "      <th>12653</th>\n",
       "      <td>World</td>\n",
       "      <td>Projection-STEPS</td>\n",
       "      <td>EV stock share</td>\n",
       "      <td>Trucks</td>\n",
       "      <td>EV</td>\n",
       "      <td>2035</td>\n",
       "      <td>percent</td>\n",
       "      <td>9</td>\n",
       "      <td>900,00%</td>\n",
       "    </tr>\n",
       "  </tbody>\n",
       "</table>\n",
       "<p>12654 rows × 9 columns</p>\n",
       "</div>"
      ],
      "text/plain": [
       "        region          category           parameter    mode  \\\n",
       "0      Austria        Historical            EV stock    Cars   \n",
       "1      Austria        Historical      EV stock share    Cars   \n",
       "2      Belgium        Historical            EV stock   Buses   \n",
       "3      Belgium        Historical            EV sales    Vans   \n",
       "4      Belgium        Historical            EV stock    Vans   \n",
       "...        ...               ...                 ...     ...   \n",
       "12649    World  Projection-STEPS      EV sales share    Cars   \n",
       "12650    World  Projection-STEPS      EV stock share    Cars   \n",
       "12651    World    Projection-APS  EV charging points      EV   \n",
       "12652    World    Projection-APS  EV charging points      EV   \n",
       "12653    World  Projection-STEPS      EV stock share  Trucks   \n",
       "\n",
       "                    powertrain  year             unit            value  \\\n",
       "0                          BEV  2010         Vehicles              350   \n",
       "1                           EV  2010          percent  789.999.961.853   \n",
       "2                          BEV  2010         Vehicles                3   \n",
       "3                          BEV  2010         Vehicles                7   \n",
       "4                          BEV  2010         Vehicles               62   \n",
       "...                        ...   ...              ...              ...   \n",
       "12649                       EV  2035          percent               55   \n",
       "12650                       EV  2035          percent               31   \n",
       "12651  Publicly available fast  2035  charging points          9400000   \n",
       "12652  Publicly available slow  2035  charging points         15000000   \n",
       "12653                       EV  2035          percent                9   \n",
       "\n",
       "               percentage  \n",
       "0               35000,00%  \n",
       "1      78999996185300,00%  \n",
       "2                 300,00%  \n",
       "3                 700,00%  \n",
       "4                6200,00%  \n",
       "...                   ...  \n",
       "12649            5500,00%  \n",
       "12650            3100,00%  \n",
       "12651       940000000,00%  \n",
       "12652      1500000000,00%  \n",
       "12653             900,00%  \n",
       "\n",
       "[12654 rows x 9 columns]"
      ]
     },
     "execution_count": 732,
     "metadata": {},
     "output_type": "execute_result"
    }
   ],
   "source": [
    "data = pd.read_csv(\"../../datas/IEA Global EV Data 2024 new.csv\", header = 0, delimiter = \",\")\n",
    "data"
   ]
  },
  {
   "cell_type": "code",
   "execution_count": 733,
   "id": "cb83adacb26ea066",
   "metadata": {
    "ExecuteTime": {
     "end_time": "2024-11-20T07:07:57.830905Z",
     "start_time": "2024-11-20T07:07:57.799912Z"
    }
   },
   "outputs": [],
   "source": [
    "data['value'] = pd.to_numeric(data['value'], errors='coerce')\n",
    "data['percentage'] = pd.to_numeric(data['percentage'], errors='coerce')"
   ]
  },
  {
   "cell_type": "code",
   "execution_count": 734,
   "id": "96bd6174c3a0088a",
   "metadata": {
    "ExecuteTime": {
     "end_time": "2024-11-20T07:08:07.143724Z",
     "start_time": "2024-11-20T07:08:07.131364Z"
    }
   },
   "outputs": [
    {
     "data": {
      "text/html": [
       "<div>\n",
       "<style scoped>\n",
       "    .dataframe tbody tr th:only-of-type {\n",
       "        vertical-align: middle;\n",
       "    }\n",
       "\n",
       "    .dataframe tbody tr th {\n",
       "        vertical-align: top;\n",
       "    }\n",
       "\n",
       "    .dataframe thead th {\n",
       "        text-align: right;\n",
       "    }\n",
       "</style>\n",
       "<table border=\"1\" class=\"dataframe\">\n",
       "  <thead>\n",
       "    <tr style=\"text-align: right;\">\n",
       "      <th></th>\n",
       "      <th>year</th>\n",
       "      <th>value</th>\n",
       "    </tr>\n",
       "  </thead>\n",
       "  <tbody>\n",
       "    <tr>\n",
       "      <th>0</th>\n",
       "      <td>2010</td>\n",
       "      <td>350.0</td>\n",
       "    </tr>\n",
       "    <tr>\n",
       "      <th>1</th>\n",
       "      <td>2010</td>\n",
       "      <td>NaN</td>\n",
       "    </tr>\n",
       "    <tr>\n",
       "      <th>2</th>\n",
       "      <td>2010</td>\n",
       "      <td>3.0</td>\n",
       "    </tr>\n",
       "    <tr>\n",
       "      <th>3</th>\n",
       "      <td>2010</td>\n",
       "      <td>7.0</td>\n",
       "    </tr>\n",
       "    <tr>\n",
       "      <th>4</th>\n",
       "      <td>2010</td>\n",
       "      <td>62.0</td>\n",
       "    </tr>\n",
       "    <tr>\n",
       "      <th>...</th>\n",
       "      <td>...</td>\n",
       "      <td>...</td>\n",
       "    </tr>\n",
       "    <tr>\n",
       "      <th>12649</th>\n",
       "      <td>2035</td>\n",
       "      <td>55.0</td>\n",
       "    </tr>\n",
       "    <tr>\n",
       "      <th>12650</th>\n",
       "      <td>2035</td>\n",
       "      <td>31.0</td>\n",
       "    </tr>\n",
       "    <tr>\n",
       "      <th>12651</th>\n",
       "      <td>2035</td>\n",
       "      <td>9400000.0</td>\n",
       "    </tr>\n",
       "    <tr>\n",
       "      <th>12652</th>\n",
       "      <td>2035</td>\n",
       "      <td>15000000.0</td>\n",
       "    </tr>\n",
       "    <tr>\n",
       "      <th>12653</th>\n",
       "      <td>2035</td>\n",
       "      <td>9.0</td>\n",
       "    </tr>\n",
       "  </tbody>\n",
       "</table>\n",
       "<p>12654 rows × 2 columns</p>\n",
       "</div>"
      ],
      "text/plain": [
       "       year       value\n",
       "0      2010       350.0\n",
       "1      2010         NaN\n",
       "2      2010         3.0\n",
       "3      2010         7.0\n",
       "4      2010        62.0\n",
       "...     ...         ...\n",
       "12649  2035        55.0\n",
       "12650  2035        31.0\n",
       "12651  2035   9400000.0\n",
       "12652  2035  15000000.0\n",
       "12653  2035         9.0\n",
       "\n",
       "[12654 rows x 2 columns]"
      ]
     },
     "execution_count": 734,
     "metadata": {},
     "output_type": "execute_result"
    }
   ],
   "source": [
    "data = data[[\"year\", \"value\"]].copy()\n",
    "data"
   ]
  },
  {
   "cell_type": "code",
   "execution_count": 735,
   "id": "34e7c95efec883df",
   "metadata": {
    "ExecuteTime": {
     "end_time": "2024-11-20T07:11:04.736435Z",
     "start_time": "2024-11-20T07:11:04.548409Z"
    }
   },
   "outputs": [
    {
     "data": {
      "image/png": "[encoded data removed]",
      "text/plain": [
       "<Figure size 640x480 with 1 Axes>"
      ]
     },
     "metadata": {},
     "output_type": "display_data"
    }
   ],
   "source": [
    "data = data.groupby(\"year\").sum().reset_index()\n",
    "plt.plot(data[\"year\"], data[\"value\"])\n",
    "plt.show()"
   ]
  },
  {
   "cell_type": "code",
   "execution_count": 736,
   "id": "a291c209",
   "metadata": {},
   "outputs": [
    {
     "data": {
      "image/png": "[encoded data removed]",
      "text/plain": [
       "<Figure size 640x480 with 1 Axes>"
      ]
     },
     "metadata": {},
     "output_type": "display_data"
    }
   ],
   "source": [
    "data[\"value\"] = np.log(data[\"value\"])\n",
    "data[\"value\"].plot()\n",
    "plt.show()"
   ]
  },
  {
   "cell_type": "code",
   "execution_count": 737,
   "id": "c6db17c51dd4ffd7",
   "metadata": {
    "ExecuteTime": {
     "end_time": "2024-11-20T07:11:07.142643Z",
     "start_time": "2024-11-20T07:11:06.937273Z"
    }
   },
   "outputs": [
    {
     "data": {
      "image/png": "[encoded data removed]",
      "text/plain": [
       "<Figure size 640x480 with 2 Axes>"
      ]
     },
     "metadata": {},
     "output_type": "display_data"
    }
   ],
   "source": [
    "sns.heatmap(data.corr(), annot = True, cmap = 'coolwarm')\n",
    "plt.show()"
   ]
  },
  {
   "cell_type": "code",
   "execution_count": 738,
   "id": "222dc1cb",
   "metadata": {},
   "outputs": [
    {
     "data": {
      "text/html": [
       "<div>\n",
       "<style scoped>\n",
       "    .dataframe tbody tr th:only-of-type {\n",
       "        vertical-align: middle;\n",
       "    }\n",
       "\n",
       "    .dataframe tbody tr th {\n",
       "        vertical-align: top;\n",
       "    }\n",
       "\n",
       "    .dataframe thead th {\n",
       "        text-align: right;\n",
       "    }\n",
       "</style>\n",
       "<table border=\"1\" class=\"dataframe\">\n",
       "  <thead>\n",
       "    <tr style=\"text-align: right;\">\n",
       "      <th></th>\n",
       "      <th>year</th>\n",
       "      <th>value</th>\n",
       "    </tr>\n",
       "  </thead>\n",
       "  <tbody>\n",
       "    <tr>\n",
       "      <th>0</th>\n",
       "      <td>2010</td>\n",
       "      <td>11.902600</td>\n",
       "    </tr>\n",
       "    <tr>\n",
       "      <th>1</th>\n",
       "      <td>2011</td>\n",
       "      <td>12.880464</td>\n",
       "    </tr>\n",
       "    <tr>\n",
       "      <th>2</th>\n",
       "      <td>2012</td>\n",
       "      <td>13.782187</td>\n",
       "    </tr>\n",
       "    <tr>\n",
       "      <th>3</th>\n",
       "      <td>2013</td>\n",
       "      <td>14.395635</td>\n",
       "    </tr>\n",
       "    <tr>\n",
       "      <th>4</th>\n",
       "      <td>2014</td>\n",
       "      <td>14.947994</td>\n",
       "    </tr>\n",
       "    <tr>\n",
       "      <th>5</th>\n",
       "      <td>2015</td>\n",
       "      <td>15.562877</td>\n",
       "    </tr>\n",
       "    <tr>\n",
       "      <th>6</th>\n",
       "      <td>2016</td>\n",
       "      <td>16.001280</td>\n",
       "    </tr>\n",
       "    <tr>\n",
       "      <th>7</th>\n",
       "      <td>2017</td>\n",
       "      <td>16.423587</td>\n",
       "    </tr>\n",
       "    <tr>\n",
       "      <th>8</th>\n",
       "      <td>2018</td>\n",
       "      <td>16.849307</td>\n",
       "    </tr>\n",
       "    <tr>\n",
       "      <th>9</th>\n",
       "      <td>2019</td>\n",
       "      <td>17.123625</td>\n",
       "    </tr>\n",
       "    <tr>\n",
       "      <th>10</th>\n",
       "      <td>2020</td>\n",
       "      <td>18.456488</td>\n",
       "    </tr>\n",
       "    <tr>\n",
       "      <th>11</th>\n",
       "      <td>2021</td>\n",
       "      <td>18.973475</td>\n",
       "    </tr>\n",
       "    <tr>\n",
       "      <th>12</th>\n",
       "      <td>2022</td>\n",
       "      <td>19.410062</td>\n",
       "    </tr>\n",
       "    <tr>\n",
       "      <th>13</th>\n",
       "      <td>2023</td>\n",
       "      <td>19.788575</td>\n",
       "    </tr>\n",
       "    <tr>\n",
       "      <th>14</th>\n",
       "      <td>2025</td>\n",
       "      <td>19.930630</td>\n",
       "    </tr>\n",
       "    <tr>\n",
       "      <th>15</th>\n",
       "      <td>2030</td>\n",
       "      <td>20.982722</td>\n",
       "    </tr>\n",
       "    <tr>\n",
       "      <th>16</th>\n",
       "      <td>2035</td>\n",
       "      <td>21.693013</td>\n",
       "    </tr>\n",
       "  </tbody>\n",
       "</table>\n",
       "</div>"
      ],
      "text/plain": [
       "    year      value\n",
       "0   2010  11.902600\n",
       "1   2011  12.880464\n",
       "2   2012  13.782187\n",
       "3   2013  14.395635\n",
       "4   2014  14.947994\n",
       "5   2015  15.562877\n",
       "6   2016  16.001280\n",
       "7   2017  16.423587\n",
       "8   2018  16.849307\n",
       "9   2019  17.123625\n",
       "10  2020  18.456488\n",
       "11  2021  18.973475\n",
       "12  2022  19.410062\n",
       "13  2023  19.788575\n",
       "14  2025  19.930630\n",
       "15  2030  20.982722\n",
       "16  2035  21.693013"
      ]
     },
     "execution_count": 738,
     "metadata": {},
     "output_type": "execute_result"
    }
   ],
   "source": [
    "data.sort_values(by = \"year\", ascending = True, inplace = True)\n",
    "data"
   ]
  },
  {
   "cell_type": "code",
   "execution_count": 739,
   "id": "7d0d5e1352606256",
   "metadata": {
    "ExecuteTime": {
     "end_time": "2024-11-20T07:33:02.119391Z",
     "start_time": "2024-11-20T07:33:02.112640Z"
    }
   },
   "outputs": [],
   "source": [
    "X = data[[\"year\"]]\n",
    "y = data[\"value\"]\n",
    "\n",
    "X_train, X_test, y_train, y_test = train_test_split(X, y, test_size = 0.2, random_state = 42)"
   ]
  },
  {
   "cell_type": "code",
   "execution_count": 740,
   "id": "902c054a0c33755c",
   "metadata": {
    "ExecuteTime": {
     "end_time": "2024-11-20T07:38:29.562333Z",
     "start_time": "2024-11-20T07:38:29.503298Z"
    }
   },
   "outputs": [],
   "source": [
    "model_fit = LinearRegression().fit(X_train, y_train)\n",
    "y_pred = model_fit.predict(X_test)"
   ]
  },
  {
   "cell_type": "code",
   "execution_count": 741,
   "id": "506fb427",
   "metadata": {},
   "outputs": [
    {
     "data": {
      "text/plain": [
       "(array([0.37408611]), -737.988844736489)"
      ]
     },
     "execution_count": 741,
     "metadata": {},
     "output_type": "execute_result"
    }
   ],
   "source": [
    "model_fit.coef_, model_fit.intercept_"
   ]
  },
  {
   "cell_type": "code",
   "execution_count": 742,
   "id": "361d0cc4",
   "metadata": {},
   "outputs": [
    {
     "data": {
      "image/png": "[encoded data removed]",
      "text/plain": [
       "<Figure size 640x480 with 1 Axes>"
      ]
     },
     "metadata": {},
     "output_type": "display_data"
    }
   ],
   "source": [
    "plt.scatter(X_train, y_train, color = 'green', label = 'Real Data Train')\n",
    "plt.scatter(X_test, y_test, color = 'red', label = 'Real Data Test')\n",
    "plt.plot(X_test, y_pred, color = 'blue', label = 'Predicted data')\n",
    "plt.legend()\n",
    "plt.show()"
   ]
  },
  {
   "cell_type": "code",
   "execution_count": 743,
   "id": "09c355fc",
   "metadata": {},
   "outputs": [
    {
     "data": {
      "text/plain": [
       "(1.0236318644567501, 1.5825511290463616, 0.07874785331182144)"
      ]
     },
     "execution_count": 743,
     "metadata": {},
     "output_type": "execute_result"
    }
   ],
   "source": [
    "mean_absolute_error(y_test, y_pred), mean_squared_error(y_test, y_pred), mean_absolute_percentage_error(y_test, y_pred)"
   ]
  },
  {
   "cell_type": "code",
   "execution_count": 744,
   "id": "7d3c0de5",
   "metadata": {},
   "outputs": [
    {
     "data": {
      "text/plain": [
       "0.8727719136819718"
      ]
     },
     "execution_count": 744,
     "metadata": {},
     "output_type": "execute_result"
    }
   ],
   "source": [
    "r2_score(y_test, y_pred)"
   ]
  },
  {
   "cell_type": "code",
   "execution_count": 745,
   "id": "d9f8b9d5",
   "metadata": {},
   "outputs": [],
   "source": [
    "X_feature = pd.DataFrame({\"year\": [2030, 2031, 2032, 2033, 2034, 2035, 2036, 2037, 2038, 2039, 2040]})"
   ]
  },
  {
   "cell_type": "code",
   "execution_count": 746,
   "id": "29b31d8c",
   "metadata": {},
   "outputs": [
    {
     "data": {
      "text/plain": [
       "array([21.40596018, 21.78004629, 22.15413241, 22.52821852, 22.90230463,\n",
       "       23.27639074, 23.65047685, 24.02456296, 24.39864907, 24.77273518,\n",
       "       25.14682129])"
      ]
     },
     "execution_count": 746,
     "metadata": {},
     "output_type": "execute_result"
    }
   ],
   "source": [
    "y_pred_feature = model_fit.predict(X_feature)\n",
    "y_pred_feature"
   ]
  },
  {
   "cell_type": "code",
   "execution_count": 747,
   "id": "783daf7d",
   "metadata": {},
   "outputs": [
    {
     "data": {
      "image/png": "[encoded data removed]",
      "text/plain": [
       "<Figure size 640x480 with 1 Axes>"
      ]
     },
     "metadata": {},
     "output_type": "display_data"
    }
   ],
   "source": [
    "plt.scatter(X_train, y_train, color = 'green', label = 'Real Data Train')\n",
    "plt.scatter(X_test, y_test, color = 'red', label = 'Real Data Test')\n",
    "plt.plot(X_test, y_pred, color = 'blue', label = 'Predicted data')\n",
    "plt.plot(X_feature, y_pred_feature, color = 'black', label = 'Future Prediction', marker = 'o')\n",
    "plt.legend()\n",
    "plt.show()"
   ]
  }
 ],
 "metadata": {
  "kernelspec": {
   "display_name": "base",
   "language": "python",
   "name": "python3"
  },
  "language_info": {
   "codemirror_mode": {
    "name": "ipython",
    "version": 3
   },
   "file_extension": ".py",
   "mimetype": "text/x-python",
   "name": "python",
   "nbconvert_exporter": "python",
   "pygments_lexer": "ipython3",
   "version": "3.12.4"
  }
 },
 "nbformat": 4,
 "nbformat_minor": 5
}

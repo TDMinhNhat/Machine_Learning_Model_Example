{
 "cells": [
  {
   "cell_type": "code",
   "execution_count": 1,
   "id": "adb035c628b5fbf5",
   "metadata": {
    "ExecuteTime": {
     "end_time": "2024-11-20T04:31:13.864873Z",
     "start_time": "2024-11-20T04:31:13.244753Z"
    }
   },
   "outputs": [],
   "source": [
    "import numpy as np\n",
    "import pandas as pd\n",
    "import matplotlib.pyplot as plt\n",
    "import seaborn as sns\n",
    "import statsmodels.api as sm\n",
    "from sklearn.metrics import mean_squared_error, mean_absolute_error\n",
    "from sklearn.model_selection import train_test_split\n",
    "from sklearn.linear_model import LinearRegression\n",
    "from statsmodels.tsa.stattools import adfuller"
   ]
  },
  {
   "cell_type": "code",
   "execution_count": 2,
   "id": "53a829d02150a764",
   "metadata": {
    "ExecuteTime": {
     "end_time": "2024-11-20T04:31:14.045261Z",
     "start_time": "2024-11-20T04:31:13.901734Z"
    }
   },
   "outputs": [
    {
     "data": {
      "text/html": [
       "<div>\n",
       "<style scoped>\n",
       "    .dataframe tbody tr th:only-of-type {\n",
       "        vertical-align: middle;\n",
       "    }\n",
       "\n",
       "    .dataframe tbody tr th {\n",
       "        vertical-align: top;\n",
       "    }\n",
       "\n",
       "    .dataframe thead th {\n",
       "        text-align: right;\n",
       "    }\n",
       "</style>\n",
       "<table border=\"1\" class=\"dataframe\">\n",
       "  <thead>\n",
       "    <tr style=\"text-align: right;\">\n",
       "      <th></th>\n",
       "      <th>region</th>\n",
       "      <th>category</th>\n",
       "      <th>parameter</th>\n",
       "      <th>mode</th>\n",
       "      <th>powertrain</th>\n",
       "      <th>year</th>\n",
       "      <th>unit</th>\n",
       "      <th>value</th>\n",
       "      <th>percentage</th>\n",
       "    </tr>\n",
       "  </thead>\n",
       "  <tbody>\n",
       "    <tr>\n",
       "      <th>0</th>\n",
       "      <td>Austria</td>\n",
       "      <td>Historical</td>\n",
       "      <td>EV stock</td>\n",
       "      <td>Cars</td>\n",
       "      <td>BEV</td>\n",
       "      <td>2010</td>\n",
       "      <td>Vehicles</td>\n",
       "      <td>350</td>\n",
       "      <td>35000,00%</td>\n",
       "    </tr>\n",
       "    <tr>\n",
       "      <th>1</th>\n",
       "      <td>Austria</td>\n",
       "      <td>Historical</td>\n",
       "      <td>EV stock share</td>\n",
       "      <td>Cars</td>\n",
       "      <td>EV</td>\n",
       "      <td>2010</td>\n",
       "      <td>percent</td>\n",
       "      <td>789.999.961.853</td>\n",
       "      <td>78999996185300,00%</td>\n",
       "    </tr>\n",
       "    <tr>\n",
       "      <th>2</th>\n",
       "      <td>Belgium</td>\n",
       "      <td>Historical</td>\n",
       "      <td>EV stock</td>\n",
       "      <td>Buses</td>\n",
       "      <td>BEV</td>\n",
       "      <td>2010</td>\n",
       "      <td>Vehicles</td>\n",
       "      <td>3</td>\n",
       "      <td>300,00%</td>\n",
       "    </tr>\n",
       "    <tr>\n",
       "      <th>3</th>\n",
       "      <td>Belgium</td>\n",
       "      <td>Historical</td>\n",
       "      <td>EV sales</td>\n",
       "      <td>Vans</td>\n",
       "      <td>BEV</td>\n",
       "      <td>2010</td>\n",
       "      <td>Vehicles</td>\n",
       "      <td>7</td>\n",
       "      <td>700,00%</td>\n",
       "    </tr>\n",
       "    <tr>\n",
       "      <th>4</th>\n",
       "      <td>Belgium</td>\n",
       "      <td>Historical</td>\n",
       "      <td>EV stock</td>\n",
       "      <td>Vans</td>\n",
       "      <td>BEV</td>\n",
       "      <td>2010</td>\n",
       "      <td>Vehicles</td>\n",
       "      <td>62</td>\n",
       "      <td>6200,00%</td>\n",
       "    </tr>\n",
       "    <tr>\n",
       "      <th>...</th>\n",
       "      <td>...</td>\n",
       "      <td>...</td>\n",
       "      <td>...</td>\n",
       "      <td>...</td>\n",
       "      <td>...</td>\n",
       "      <td>...</td>\n",
       "      <td>...</td>\n",
       "      <td>...</td>\n",
       "      <td>...</td>\n",
       "    </tr>\n",
       "    <tr>\n",
       "      <th>12649</th>\n",
       "      <td>World</td>\n",
       "      <td>Projection-STEPS</td>\n",
       "      <td>EV sales share</td>\n",
       "      <td>Cars</td>\n",
       "      <td>EV</td>\n",
       "      <td>2035</td>\n",
       "      <td>percent</td>\n",
       "      <td>55</td>\n",
       "      <td>5500,00%</td>\n",
       "    </tr>\n",
       "    <tr>\n",
       "      <th>12650</th>\n",
       "      <td>World</td>\n",
       "      <td>Projection-STEPS</td>\n",
       "      <td>EV stock share</td>\n",
       "      <td>Cars</td>\n",
       "      <td>EV</td>\n",
       "      <td>2035</td>\n",
       "      <td>percent</td>\n",
       "      <td>31</td>\n",
       "      <td>3100,00%</td>\n",
       "    </tr>\n",
       "    <tr>\n",
       "      <th>12651</th>\n",
       "      <td>World</td>\n",
       "      <td>Projection-APS</td>\n",
       "      <td>EV charging points</td>\n",
       "      <td>EV</td>\n",
       "      <td>Publicly available fast</td>\n",
       "      <td>2035</td>\n",
       "      <td>charging points</td>\n",
       "      <td>9400000</td>\n",
       "      <td>940000000,00%</td>\n",
       "    </tr>\n",
       "    <tr>\n",
       "      <th>12652</th>\n",
       "      <td>World</td>\n",
       "      <td>Projection-APS</td>\n",
       "      <td>EV charging points</td>\n",
       "      <td>EV</td>\n",
       "      <td>Publicly available slow</td>\n",
       "      <td>2035</td>\n",
       "      <td>charging points</td>\n",
       "      <td>15000000</td>\n",
       "      <td>1500000000,00%</td>\n",
       "    </tr>\n",
       "    <tr>\n",
       "      <th>12653</th>\n",
       "      <td>World</td>\n",
       "      <td>Projection-STEPS</td>\n",
       "      <td>EV stock share</td>\n",
       "      <td>Trucks</td>\n",
       "      <td>EV</td>\n",
       "      <td>2035</td>\n",
       "      <td>percent</td>\n",
       "      <td>9</td>\n",
       "      <td>900,00%</td>\n",
       "    </tr>\n",
       "  </tbody>\n",
       "</table>\n",
       "<p>12654 rows × 9 columns</p>\n",
       "</div>"
      ],
      "text/plain": [
       "        region          category           parameter    mode  \\\n",
       "0      Austria        Historical            EV stock    Cars   \n",
       "1      Austria        Historical      EV stock share    Cars   \n",
       "2      Belgium        Historical            EV stock   Buses   \n",
       "3      Belgium        Historical            EV sales    Vans   \n",
       "4      Belgium        Historical            EV stock    Vans   \n",
       "...        ...               ...                 ...     ...   \n",
       "12649    World  Projection-STEPS      EV sales share    Cars   \n",
       "12650    World  Projection-STEPS      EV stock share    Cars   \n",
       "12651    World    Projection-APS  EV charging points      EV   \n",
       "12652    World    Projection-APS  EV charging points      EV   \n",
       "12653    World  Projection-STEPS      EV stock share  Trucks   \n",
       "\n",
       "                    powertrain  year             unit            value  \\\n",
       "0                          BEV  2010         Vehicles              350   \n",
       "1                           EV  2010          percent  789.999.961.853   \n",
       "2                          BEV  2010         Vehicles                3   \n",
       "3                          BEV  2010         Vehicles                7   \n",
       "4                          BEV  2010         Vehicles               62   \n",
       "...                        ...   ...              ...              ...   \n",
       "12649                       EV  2035          percent               55   \n",
       "12650                       EV  2035          percent               31   \n",
       "12651  Publicly available fast  2035  charging points          9400000   \n",
       "12652  Publicly available slow  2035  charging points         15000000   \n",
       "12653                       EV  2035          percent                9   \n",
       "\n",
       "               percentage  \n",
       "0               35000,00%  \n",
       "1      78999996185300,00%  \n",
       "2                 300,00%  \n",
       "3                 700,00%  \n",
       "4                6200,00%  \n",
       "...                   ...  \n",
       "12649            5500,00%  \n",
       "12650            3100,00%  \n",
       "12651       940000000,00%  \n",
       "12652      1500000000,00%  \n",
       "12653             900,00%  \n",
       "\n",
       "[12654 rows x 9 columns]"
      ]
     },
     "execution_count": 2,
     "metadata": {},
     "output_type": "execute_result"
    }
   ],
   "source": [
    "data = pd.read_csv(\"../../datas/IEA Global EV Data 2024 new.csv\", header = 0, delimiter = \",\")\n",
    "data"
   ]
  },
  {
   "cell_type": "code",
   "execution_count": 3,
   "id": "141e96ea7d12aebb",
   "metadata": {
    "ExecuteTime": {
     "end_time": "2024-11-20T04:31:14.138978Z",
     "start_time": "2024-11-20T04:31:14.101195Z"
    }
   },
   "outputs": [],
   "source": [
    "data['value'] = pd.to_numeric(data['value'], errors='coerce')\n",
    "data['percentage'] = pd.to_numeric(data['percentage'], errors='coerce')"
   ]
  },
  {
   "cell_type": "code",
   "execution_count": 4,
   "id": "22c171c5d29e5931",
   "metadata": {
    "ExecuteTime": {
     "end_time": "2024-11-20T04:31:14.209128Z",
     "start_time": "2024-11-20T04:31:14.191189Z"
    }
   },
   "outputs": [
    {
     "data": {
      "text/html": [
       "<div>\n",
       "<style scoped>\n",
       "    .dataframe tbody tr th:only-of-type {\n",
       "        vertical-align: middle;\n",
       "    }\n",
       "\n",
       "    .dataframe tbody tr th {\n",
       "        vertical-align: top;\n",
       "    }\n",
       "\n",
       "    .dataframe thead th {\n",
       "        text-align: right;\n",
       "    }\n",
       "</style>\n",
       "<table border=\"1\" class=\"dataframe\">\n",
       "  <thead>\n",
       "    <tr style=\"text-align: right;\">\n",
       "      <th></th>\n",
       "      <th>year</th>\n",
       "      <th>value</th>\n",
       "    </tr>\n",
       "  </thead>\n",
       "  <tbody>\n",
       "    <tr>\n",
       "      <th>0</th>\n",
       "      <td>2010</td>\n",
       "      <td>350.0</td>\n",
       "    </tr>\n",
       "    <tr>\n",
       "      <th>1</th>\n",
       "      <td>2010</td>\n",
       "      <td>NaN</td>\n",
       "    </tr>\n",
       "    <tr>\n",
       "      <th>2</th>\n",
       "      <td>2010</td>\n",
       "      <td>3.0</td>\n",
       "    </tr>\n",
       "    <tr>\n",
       "      <th>3</th>\n",
       "      <td>2010</td>\n",
       "      <td>7.0</td>\n",
       "    </tr>\n",
       "    <tr>\n",
       "      <th>4</th>\n",
       "      <td>2010</td>\n",
       "      <td>62.0</td>\n",
       "    </tr>\n",
       "    <tr>\n",
       "      <th>...</th>\n",
       "      <td>...</td>\n",
       "      <td>...</td>\n",
       "    </tr>\n",
       "    <tr>\n",
       "      <th>12649</th>\n",
       "      <td>2035</td>\n",
       "      <td>55.0</td>\n",
       "    </tr>\n",
       "    <tr>\n",
       "      <th>12650</th>\n",
       "      <td>2035</td>\n",
       "      <td>31.0</td>\n",
       "    </tr>\n",
       "    <tr>\n",
       "      <th>12651</th>\n",
       "      <td>2035</td>\n",
       "      <td>9400000.0</td>\n",
       "    </tr>\n",
       "    <tr>\n",
       "      <th>12652</th>\n",
       "      <td>2035</td>\n",
       "      <td>15000000.0</td>\n",
       "    </tr>\n",
       "    <tr>\n",
       "      <th>12653</th>\n",
       "      <td>2035</td>\n",
       "      <td>9.0</td>\n",
       "    </tr>\n",
       "  </tbody>\n",
       "</table>\n",
       "<p>12654 rows × 2 columns</p>\n",
       "</div>"
      ],
      "text/plain": [
       "       year       value\n",
       "0      2010       350.0\n",
       "1      2010         NaN\n",
       "2      2010         3.0\n",
       "3      2010         7.0\n",
       "4      2010        62.0\n",
       "...     ...         ...\n",
       "12649  2035        55.0\n",
       "12650  2035        31.0\n",
       "12651  2035   9400000.0\n",
       "12652  2035  15000000.0\n",
       "12653  2035         9.0\n",
       "\n",
       "[12654 rows x 2 columns]"
      ]
     },
     "execution_count": 4,
     "metadata": {},
     "output_type": "execute_result"
    }
   ],
   "source": [
    "data = data[[\"year\", \"value\"]].copy()\n",
    "data"
   ]
  },
  {
   "cell_type": "code",
   "execution_count": 5,
   "id": "e0cd88bb9b1f9acd",
   "metadata": {
    "ExecuteTime": {
     "end_time": "2024-11-20T04:31:14.278843Z",
     "start_time": "2024-11-20T04:31:14.271733Z"
    }
   },
   "outputs": [],
   "source": [
    "data.dropna(inplace = True)"
   ]
  },
  {
   "cell_type": "code",
   "execution_count": 6,
   "id": "497bebc006adb33e",
   "metadata": {
    "ExecuteTime": {
     "end_time": "2024-11-20T04:31:14.596558Z",
     "start_time": "2024-11-20T04:31:14.411359Z"
    }
   },
   "outputs": [
    {
     "data": {
      "image/png": "[encoded data removed]",
      "text/plain": [
       "<Figure size 640x480 with 1 Axes>"
      ]
     },
     "metadata": {},
     "output_type": "display_data"
    }
   ],
   "source": [
    "data_group = data.groupby(\"year\").sum().reset_index()\n",
    "plt.plot(data_group[\"value\"])\n",
    "plt.show()"
   ]
  },
  {
   "cell_type": "code",
   "execution_count": 7,
   "id": "42ffdb2a20f048df",
   "metadata": {
    "ExecuteTime": {
     "end_time": "2024-11-20T04:31:14.834870Z",
     "start_time": "2024-11-20T04:31:14.668223Z"
    }
   },
   "outputs": [
    {
     "data": {
      "image/png": "[encoded data removed]",
      "text/plain": [
       "<Figure size 640x480 with 1 Axes>"
      ]
     },
     "metadata": {},
     "output_type": "display_data"
    }
   ],
   "source": [
    "data_group[\"value\"] = np.log(data_group[\"value\"])\n",
    "plt.plot(data_group[\"value\"])\n",
    "plt.show()"
   ]
  },
  {
   "cell_type": "code",
   "execution_count": 8,
   "id": "7ee34ad2adca4864",
   "metadata": {
    "ExecuteTime": {
     "end_time": "2024-11-20T04:31:15.002247Z",
     "start_time": "2024-11-20T04:31:14.849528Z"
    }
   },
   "outputs": [
    {
     "data": {
      "image/png": "[encoded data removed]",
      "text/plain": [
       "<Figure size 640x480 with 2 Axes>"
      ]
     },
     "metadata": {},
     "output_type": "display_data"
    }
   ],
   "source": [
    "sns.heatmap(data_group.corr(), annot = True)\n",
    "plt.show()"
   ]
  },
  {
   "cell_type": "code",
   "execution_count": 9,
   "id": "cd0f8c581c768c5f",
   "metadata": {
    "ExecuteTime": {
     "end_time": "2024-11-20T04:31:15.028788Z",
     "start_time": "2024-11-20T04:31:15.019025Z"
    }
   },
   "outputs": [
    {
     "data": {
      "text/plain": [
       "(0     2010\n",
       " 1     2011\n",
       " 2     2012\n",
       " 3     2013\n",
       " 4     2014\n",
       " 5     2015\n",
       " 6     2016\n",
       " 7     2017\n",
       " 8     2018\n",
       " 9     2019\n",
       " 10    2020\n",
       " 11    2021\n",
       " 12    2022\n",
       " 13    2023\n",
       " 14    2025\n",
       " 15    2030\n",
       " 16    2035\n",
       " Name: year, dtype: int64,\n",
       " 0     11.902600\n",
       " 1     12.880464\n",
       " 2     13.782187\n",
       " 3     14.395635\n",
       " 4     14.947994\n",
       " 5     15.562877\n",
       " 6     16.001280\n",
       " 7     16.423587\n",
       " 8     16.849307\n",
       " 9     17.123625\n",
       " 10    18.456488\n",
       " 11    18.973475\n",
       " 12    19.410062\n",
       " 13    19.788575\n",
       " 14    19.930630\n",
       " 15    20.982722\n",
       " 16    21.693013\n",
       " Name: value, dtype: float64)"
      ]
     },
     "execution_count": 9,
     "metadata": {},
     "output_type": "execute_result"
    }
   ],
   "source": [
    "X = data_group[\"year\"]\n",
    "y = data_group[\"value\"]\n",
    "X, y"
   ]
  },
  {
   "cell_type": "code",
   "execution_count": 10,
   "id": "92ae0c1a4796a185",
   "metadata": {
    "ExecuteTime": {
     "end_time": "2024-11-20T04:31:15.125960Z",
     "start_time": "2024-11-20T04:31:15.118334Z"
    }
   },
   "outputs": [],
   "source": [
    "X_train, X_test, y_train, y_test = train_test_split(X, y, test_size = 0.2, random_state = 42)"
   ]
  },
  {
   "cell_type": "code",
   "execution_count": 11,
   "id": "fcbff5cf9d85543f",
   "metadata": {
    "ExecuteTime": {
     "end_time": "2024-11-20T04:31:15.150360Z",
     "start_time": "2024-11-20T04:31:15.143660Z"
    }
   },
   "outputs": [],
   "source": [
    "X_train_sm = sm.add_constant(X_train)\n",
    "lr = sm.OLS(y_train, X_train_sm).fit()"
   ]
  },
  {
   "cell_type": "code",
   "execution_count": 12,
   "id": "66b5016e6b3ef50c",
   "metadata": {
    "ExecuteTime": {
     "end_time": "2024-11-20T04:31:41.455723Z",
     "start_time": "2024-11-20T04:31:41.424878Z"
    }
   },
   "outputs": [
    {
     "name": "stdout",
     "output_type": "stream",
     "text": [
      "                            OLS Regression Results                            \n",
      "==============================================================================\n",
      "Dep. Variable:                  value   R-squared:                       0.889\n",
      "Model:                            OLS   Adj. R-squared:                  0.879\n",
      "Method:                 Least Squares   F-statistic:                     88.49\n",
      "Date:                Sun, 01 Dec 2024   Prob (F-statistic):           1.36e-06\n",
      "Time:                        08:20:51   Log-Likelihood:                -15.019\n",
      "No. Observations:                  13   AIC:                             34.04\n",
      "Df Residuals:                      11   BIC:                             35.17\n",
      "Df Model:                           1                                         \n",
      "Covariance Type:            nonrobust                                         \n",
      "==============================================================================\n",
      "                 coef    std err          t      P>|t|      [0.025      0.975]\n",
      "------------------------------------------------------------------------------\n",
      "const       -737.9888     80.314     -9.189      0.000    -914.759    -561.219\n",
      "year           0.3741      0.040      9.407      0.000       0.287       0.462\n",
      "==============================================================================\n",
      "Omnibus:                        0.361   Durbin-Watson:                   1.685\n",
      "Prob(Omnibus):                  0.835   Jarque-Bera (JB):                0.463\n",
      "Skew:                          -0.289   Prob(JB):                        0.793\n",
      "Kurtosis:                       2.278   Cond. No.                     7.00e+05\n",
      "==============================================================================\n",
      "\n",
      "Notes:\n",
      "[1] Standard Errors assume that the covariance matrix of the errors is correctly specified.\n",
      "[2] The condition number is large,  7e+05. This might indicate that there are\n",
      "strong multicollinearity or other numerical problems.\n"
     ]
    },
    {
     "name": "stderr",
     "output_type": "stream",
     "text": [
      "c:\\Users\\HP\\AppData\\Local\\anaconda3\\Lib\\site-packages\\scipy\\stats\\_axis_nan_policy.py:531: UserWarning: kurtosistest only valid for n>=20 ... continuing anyway, n=13\n",
      "  res = hypotest_fun_out(*samples, **kwds)\n"
     ]
    }
   ],
   "source": [
    "print(lr.summary())"
   ]
  },
  {
   "cell_type": "code",
   "execution_count": 13,
   "id": "36fe81cc490684e0",
   "metadata": {
    "ExecuteTime": {
     "end_time": "2024-11-20T04:32:33.642299Z",
     "start_time": "2024-11-20T04:32:33.486484Z"
    }
   },
   "outputs": [
    {
     "data": {
      "image/png": "[encoded data removed]",
      "text/plain": [
       "<Figure size 640x480 with 1 Axes>"
      ]
     },
     "metadata": {},
     "output_type": "display_data"
    }
   ],
   "source": [
    "plt.scatter(X_train, y_train)\n",
    "plt.plot(X_train, -737.9888 + 0.3741 * X_train, 'r')\n",
    "plt.show()"
   ]
  },
  {
   "cell_type": "code",
   "execution_count": 14,
   "id": "aade04e992c8dde",
   "metadata": {
    "ExecuteTime": {
     "end_time": "2024-11-20T04:33:23.539144Z",
     "start_time": "2024-11-20T04:33:23.533878Z"
    }
   },
   "outputs": [],
   "source": [
    "y_train_pred = lr.predict(X_train_sm)\n",
    "res = (y_train - y_train_pred)"
   ]
  },
  {
   "cell_type": "code",
   "execution_count": 15,
   "id": "64b278aab4342f24",
   "metadata": {
    "ExecuteTime": {
     "end_time": "2024-11-20T04:33:32.707938Z",
     "start_time": "2024-11-20T04:33:32.423816Z"
    }
   },
   "outputs": [
    {
     "data": {
      "image/png": "[encoded data removed]",
      "text/plain": [
       "<Figure size 500x500 with 1 Axes>"
      ]
     },
     "metadata": {},
     "output_type": "display_data"
    }
   ],
   "source": [
    "sns.displot(res, bins = 15)\n",
    "plt.show()"
   ]
  },
  {
   "cell_type": "code",
   "execution_count": 16,
   "id": "d93c595a85d4bb21",
   "metadata": {
    "ExecuteTime": {
     "end_time": "2024-11-20T04:34:36.707406Z",
     "start_time": "2024-11-20T04:34:36.700025Z"
    }
   },
   "outputs": [],
   "source": [
    "X_test_sm = sm.add_constant(X_test)\n",
    "y_pred = lr.predict(X_test_sm)"
   ]
  },
  {
   "cell_type": "code",
   "execution_count": 17,
   "id": "1d35d21c843dcd3c",
   "metadata": {
    "ExecuteTime": {
     "end_time": "2024-11-20T04:37:53.401060Z",
     "start_time": "2024-11-20T04:37:53.215554Z"
    }
   },
   "outputs": [
    {
     "data": {
      "image/png": "[encoded data removed]",
      "text/plain": [
       "<Figure size 640x480 with 1 Axes>"
      ]
     },
     "metadata": {},
     "output_type": "display_data"
    }
   ],
   "source": [
    "plt.scatter(X_test, y_test)\n",
    "plt.plot(X_test, y_pred, 'r')\n",
    "plt.show()"
   ]
  },
  {
   "cell_type": "code",
   "execution_count": 18,
   "id": "26d3b05477688124",
   "metadata": {
    "ExecuteTime": {
     "end_time": "2024-11-20T04:38:23.489512Z",
     "start_time": "2024-11-20T04:38:23.480306Z"
    }
   },
   "outputs": [
    {
     "data": {
      "text/plain": [
       "(1.582551129046105, 1.023631864456608, 1.2579948843481459)"
      ]
     },
     "execution_count": 18,
     "metadata": {},
     "output_type": "execute_result"
    }
   ],
   "source": [
    "mean_squared_error(y_test, y_pred), mean_absolute_error(y_test, y_pred), np.sqrt(mean_squared_error(y_test, y_pred))"
   ]
  },
  {
   "cell_type": "code",
   "execution_count": 19,
   "id": "de8f56f57821a80e",
   "metadata": {
    "ExecuteTime": {
     "end_time": "2024-11-20T05:23:24.414815Z",
     "start_time": "2024-11-20T05:23:24.407518Z"
    }
   },
   "outputs": [
    {
     "data": {
      "text/plain": [
       "0     2010\n",
       "1     2011\n",
       "5     2015\n",
       "15    2030\n",
       "Name: year, dtype: int64"
      ]
     },
     "execution_count": 19,
     "metadata": {},
     "output_type": "execute_result"
    }
   ],
   "source": [
    "X_test"
   ]
  }
 ],
 "metadata": {
  "kernelspec": {
   "display_name": "base",
   "language": "python",
   "name": "python3"
  },
  "language_info": {
   "codemirror_mode": {
    "name": "ipython",
    "version": 3
   },
   "file_extension": ".py",
   "mimetype": "text/x-python",
   "name": "python",
   "nbconvert_exporter": "python",
   "pygments_lexer": "ipython3",
   "version": "3.12.4"
  }
 },
 "nbformat": 4,
 "nbformat_minor": 5
}
